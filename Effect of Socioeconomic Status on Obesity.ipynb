{
 "cells": [
  {
   "cell_type": "markdown",
   "id": "7bf1fa08",
   "metadata": {},
   "source": [
    "<h1><center>Effect of Socioeconomic Status on Obesity</center></h1>"
   ]
  },
  {
   "cell_type": "markdown",
   "id": "fe29b4c4",
   "metadata": {},
   "source": [
    "This dataset includes data on adult's diet, physical activity, and weight status from Behavioral Risk Factor Surveillance System. This data is used for DNPAO's Data, Trends, and Maps database, which provides national and state specific data on obesity, nutrition, physical activity, and breastfeeding. The goal of this analysist is to compare the obesity rate in each state, and then perform a linear regression on the obesity rate for each educational status and the income bracket.\n",
    "\n",
    "The data is taken from https://chronicdata.cdc.gov/Nutrition-Physical-Activity-and-Obesity/Nutrition-Physical-Activity-and-Obesity-Behavioral/hn4x-zwk7. Please go to the cdc website for complete description of the dataset.\n",
    "\n",
    "The idea and some of the codes of this project is taken from https://www.kaggle.com/spittman1248/effect-of-socioeconomic-status-on-obesity."
   ]
  },
  {
   "cell_type": "code",
   "execution_count": 1,
   "id": "5862b024",
   "metadata": {},
   "outputs": [],
   "source": [
    "import matplotlib.pyplot as plt\n",
    "import pandas as pd\n",
    "import numpy as np\n",
    "import seaborn as sns\n",
    "%matplotlib inline"
   ]
  },
  {
   "cell_type": "markdown",
   "id": "7abfdef8",
   "metadata": {},
   "source": [
    "<h2>Reading the data</h2>"
   ]
  },
  {
   "cell_type": "code",
   "execution_count": 2,
   "id": "acba605f",
   "metadata": {},
   "outputs": [
    {
     "data": {
      "text/html": [
       "<div>\n",
       "<style scoped>\n",
       "    .dataframe tbody tr th:only-of-type {\n",
       "        vertical-align: middle;\n",
       "    }\n",
       "\n",
       "    .dataframe tbody tr th {\n",
       "        vertical-align: top;\n",
       "    }\n",
       "\n",
       "    .dataframe thead th {\n",
       "        text-align: right;\n",
       "    }\n",
       "</style>\n",
       "<table border=\"1\" class=\"dataframe\">\n",
       "  <thead>\n",
       "    <tr style=\"text-align: right;\">\n",
       "      <th></th>\n",
       "      <th>YearStart</th>\n",
       "      <th>YearEnd</th>\n",
       "      <th>LocationAbbr</th>\n",
       "      <th>LocationDesc</th>\n",
       "      <th>Datasource</th>\n",
       "      <th>Class</th>\n",
       "      <th>Topic</th>\n",
       "      <th>Question</th>\n",
       "      <th>Data_Value_Unit</th>\n",
       "      <th>Data_Value_Type</th>\n",
       "      <th>Data_Value</th>\n",
       "      <th>Data_Value_Alt</th>\n",
       "      <th>Data_Value_Footnote_Symbol</th>\n",
       "      <th>Data_Value_Footnote</th>\n",
       "      <th>Low_Confidence_Limit</th>\n",
       "      <th>High_Confidence_Limit</th>\n",
       "      <th>Sample_Size</th>\n",
       "      <th>Total</th>\n",
       "      <th>Age(years)</th>\n",
       "      <th>Education</th>\n",
       "      <th>Gender</th>\n",
       "      <th>Income</th>\n",
       "      <th>Race/Ethnicity</th>\n",
       "      <th>GeoLocation</th>\n",
       "      <th>ClassID</th>\n",
       "      <th>TopicID</th>\n",
       "      <th>QuestionID</th>\n",
       "      <th>DataValueTypeID</th>\n",
       "      <th>LocationID</th>\n",
       "      <th>StratificationCategory1</th>\n",
       "      <th>Stratification1</th>\n",
       "      <th>StratificationCategoryId1</th>\n",
       "      <th>StratificationID1</th>\n",
       "    </tr>\n",
       "  </thead>\n",
       "  <tbody>\n",
       "    <tr>\n",
       "      <th>0</th>\n",
       "      <td>2014</td>\n",
       "      <td>2014</td>\n",
       "      <td>GU</td>\n",
       "      <td>Guam</td>\n",
       "      <td>Behavioral Risk Factor Surveillance System</td>\n",
       "      <td>Obesity / Weight Status</td>\n",
       "      <td>Obesity / Weight Status</td>\n",
       "      <td>Percent of adults aged 18 years and older who ...</td>\n",
       "      <td>NaN</td>\n",
       "      <td>Value</td>\n",
       "      <td>29.3</td>\n",
       "      <td>29.3</td>\n",
       "      <td>NaN</td>\n",
       "      <td>NaN</td>\n",
       "      <td>25.7</td>\n",
       "      <td>33.3</td>\n",
       "      <td>842.0</td>\n",
       "      <td>NaN</td>\n",
       "      <td>NaN</td>\n",
       "      <td>High school graduate</td>\n",
       "      <td>NaN</td>\n",
       "      <td>NaN</td>\n",
       "      <td>NaN</td>\n",
       "      <td>(13.444304, 144.793731)</td>\n",
       "      <td>OWS</td>\n",
       "      <td>OWS1</td>\n",
       "      <td>Q036</td>\n",
       "      <td>VALUE</td>\n",
       "      <td>66</td>\n",
       "      <td>Education</td>\n",
       "      <td>High school graduate</td>\n",
       "      <td>EDU</td>\n",
       "      <td>EDUHSGRAD</td>\n",
       "    </tr>\n",
       "    <tr>\n",
       "      <th>1</th>\n",
       "      <td>2013</td>\n",
       "      <td>2013</td>\n",
       "      <td>US</td>\n",
       "      <td>National</td>\n",
       "      <td>Behavioral Risk Factor Surveillance System</td>\n",
       "      <td>Obesity / Weight Status</td>\n",
       "      <td>Obesity / Weight Status</td>\n",
       "      <td>Percent of adults aged 18 years and older who ...</td>\n",
       "      <td>NaN</td>\n",
       "      <td>Value</td>\n",
       "      <td>28.8</td>\n",
       "      <td>28.8</td>\n",
       "      <td>NaN</td>\n",
       "      <td>NaN</td>\n",
       "      <td>28.1</td>\n",
       "      <td>29.5</td>\n",
       "      <td>62562.0</td>\n",
       "      <td>NaN</td>\n",
       "      <td>NaN</td>\n",
       "      <td>NaN</td>\n",
       "      <td>NaN</td>\n",
       "      <td>$50,000 - $74,999</td>\n",
       "      <td>NaN</td>\n",
       "      <td>NaN</td>\n",
       "      <td>OWS</td>\n",
       "      <td>OWS1</td>\n",
       "      <td>Q036</td>\n",
       "      <td>VALUE</td>\n",
       "      <td>59</td>\n",
       "      <td>Income</td>\n",
       "      <td>$50,000 - $74,999</td>\n",
       "      <td>INC</td>\n",
       "      <td>INC5075</td>\n",
       "    </tr>\n",
       "    <tr>\n",
       "      <th>2</th>\n",
       "      <td>2013</td>\n",
       "      <td>2013</td>\n",
       "      <td>US</td>\n",
       "      <td>National</td>\n",
       "      <td>Behavioral Risk Factor Surveillance System</td>\n",
       "      <td>Obesity / Weight Status</td>\n",
       "      <td>Obesity / Weight Status</td>\n",
       "      <td>Percent of adults aged 18 years and older who ...</td>\n",
       "      <td>NaN</td>\n",
       "      <td>Value</td>\n",
       "      <td>32.7</td>\n",
       "      <td>32.7</td>\n",
       "      <td>NaN</td>\n",
       "      <td>NaN</td>\n",
       "      <td>31.9</td>\n",
       "      <td>33.5</td>\n",
       "      <td>60069.0</td>\n",
       "      <td>NaN</td>\n",
       "      <td>NaN</td>\n",
       "      <td>NaN</td>\n",
       "      <td>NaN</td>\n",
       "      <td>Data not reported</td>\n",
       "      <td>NaN</td>\n",
       "      <td>NaN</td>\n",
       "      <td>OWS</td>\n",
       "      <td>OWS1</td>\n",
       "      <td>Q037</td>\n",
       "      <td>VALUE</td>\n",
       "      <td>59</td>\n",
       "      <td>Income</td>\n",
       "      <td>Data not reported</td>\n",
       "      <td>INC</td>\n",
       "      <td>INCNR</td>\n",
       "    </tr>\n",
       "  </tbody>\n",
       "</table>\n",
       "</div>"
      ],
      "text/plain": [
       "   YearStart  YearEnd LocationAbbr LocationDesc  \\\n",
       "0       2014     2014           GU         Guam   \n",
       "1       2013     2013           US     National   \n",
       "2       2013     2013           US     National   \n",
       "\n",
       "                                   Datasource                    Class  \\\n",
       "0  Behavioral Risk Factor Surveillance System  Obesity / Weight Status   \n",
       "1  Behavioral Risk Factor Surveillance System  Obesity / Weight Status   \n",
       "2  Behavioral Risk Factor Surveillance System  Obesity / Weight Status   \n",
       "\n",
       "                     Topic                                           Question  \\\n",
       "0  Obesity / Weight Status  Percent of adults aged 18 years and older who ...   \n",
       "1  Obesity / Weight Status  Percent of adults aged 18 years and older who ...   \n",
       "2  Obesity / Weight Status  Percent of adults aged 18 years and older who ...   \n",
       "\n",
       "   Data_Value_Unit Data_Value_Type  Data_Value  Data_Value_Alt  \\\n",
       "0              NaN           Value        29.3            29.3   \n",
       "1              NaN           Value        28.8            28.8   \n",
       "2              NaN           Value        32.7            32.7   \n",
       "\n",
       "  Data_Value_Footnote_Symbol Data_Value_Footnote  Low_Confidence_Limit  \\\n",
       "0                        NaN                 NaN                  25.7   \n",
       "1                        NaN                 NaN                  28.1   \n",
       "2                        NaN                 NaN                  31.9   \n",
       "\n",
       "   High_Confidence_Limit   Sample_Size Total Age(years)             Education  \\\n",
       "0                    33.3        842.0   NaN        NaN  High school graduate   \n",
       "1                    29.5      62562.0   NaN        NaN                   NaN   \n",
       "2                    33.5      60069.0   NaN        NaN                   NaN   \n",
       "\n",
       "  Gender             Income Race/Ethnicity              GeoLocation ClassID  \\\n",
       "0    NaN                NaN            NaN  (13.444304, 144.793731)     OWS   \n",
       "1    NaN  $50,000 - $74,999            NaN                      NaN     OWS   \n",
       "2    NaN  Data not reported            NaN                      NaN     OWS   \n",
       "\n",
       "  TopicID QuestionID DataValueTypeID  LocationID StratificationCategory1  \\\n",
       "0    OWS1       Q036           VALUE          66               Education   \n",
       "1    OWS1       Q036           VALUE          59                  Income   \n",
       "2    OWS1       Q037           VALUE          59                  Income   \n",
       "\n",
       "        Stratification1 StratificationCategoryId1 StratificationID1  \n",
       "0  High school graduate                       EDU         EDUHSGRAD  \n",
       "1     $50,000 - $74,999                       INC           INC5075  \n",
       "2     Data not reported                       INC             INCNR  "
      ]
     },
     "execution_count": 2,
     "metadata": {},
     "output_type": "execute_result"
    }
   ],
   "source": [
    "df = pd.read_csv(\"Nutrition__Physical_Activity__and_Obesity_-_Behavioral_Risk_Factor_Surveillance_System.csv\")\n",
    "pd.set_option(\"display.max_columns\", None)\n",
    "df.head(3)"
   ]
  },
  {
   "cell_type": "markdown",
   "id": "de914bd3",
   "metadata": {},
   "source": [
    "<h2>Explore the data</h2>"
   ]
  },
  {
   "cell_type": "code",
   "execution_count": 3,
   "id": "b0b95fe9",
   "metadata": {},
   "outputs": [
    {
     "name": "stdout",
     "output_type": "stream",
     "text": [
      "<class 'pandas.core.frame.DataFrame'>\n",
      "RangeIndex: 80929 entries, 0 to 80928\n",
      "Data columns (total 33 columns):\n",
      " #   Column                      Non-Null Count  Dtype  \n",
      "---  ------                      --------------  -----  \n",
      " 0   YearStart                   80929 non-null  int64  \n",
      " 1   YearEnd                     80929 non-null  int64  \n",
      " 2   LocationAbbr                80929 non-null  object \n",
      " 3   LocationDesc                80929 non-null  object \n",
      " 4   Datasource                  80929 non-null  object \n",
      " 5   Class                       80929 non-null  object \n",
      " 6   Topic                       80929 non-null  object \n",
      " 7   Question                    80929 non-null  object \n",
      " 8   Data_Value_Unit             0 non-null      float64\n",
      " 9   Data_Value_Type             80929 non-null  object \n",
      " 10  Data_Value                  72965 non-null  float64\n",
      " 11  Data_Value_Alt              72965 non-null  float64\n",
      " 12  Data_Value_Footnote_Symbol  7964 non-null   object \n",
      " 13  Data_Value_Footnote         7964 non-null   object \n",
      " 14  Low_Confidence_Limit        72965 non-null  float64\n",
      " 15  High_Confidence_Limit       72965 non-null  float64\n",
      " 16  Sample_Size                 72965 non-null  float64\n",
      " 17  Total                       2890 non-null   object \n",
      " 18  Age(years)                  17340 non-null  object \n",
      " 19  Education                   11560 non-null  object \n",
      " 20  Gender                      5780 non-null   object \n",
      " 21  Income                      20230 non-null  object \n",
      " 22  Race/Ethnicity              23120 non-null  object \n",
      " 23  GeoLocation                 79417 non-null  object \n",
      " 24  ClassID                     80929 non-null  object \n",
      " 25  TopicID                     80929 non-null  object \n",
      " 26  QuestionID                  80929 non-null  object \n",
      " 27  DataValueTypeID             80929 non-null  object \n",
      " 28  LocationID                  80929 non-null  int64  \n",
      " 29  StratificationCategory1     80920 non-null  object \n",
      " 30  Stratification1             80920 non-null  object \n",
      " 31  StratificationCategoryId1   80920 non-null  object \n",
      " 32  StratificationID1           80920 non-null  object \n",
      "dtypes: float64(6), int64(3), object(24)\n",
      "memory usage: 20.4+ MB\n"
     ]
    }
   ],
   "source": [
    "# get a quick description of df\n",
    "df.info()"
   ]
  },
  {
   "cell_type": "code",
   "execution_count": 4,
   "id": "162a75d1",
   "metadata": {},
   "outputs": [
    {
     "data": {
      "text/plain": [
       "Index(['YearStart', 'LocationAbbr', 'LocationDesc', 'Class', 'Question',\n",
       "       'Data_Value', 'Data_Value_Alt', 'Sample_Size', 'Total', 'Age(years)',\n",
       "       'Education', 'Gender', 'Income', 'Race/Ethnicity', 'GeoLocation',\n",
       "       'LocationID', 'StratificationCategory1', 'Stratification1'],\n",
       "      dtype='object')"
      ]
     },
     "execution_count": 4,
     "metadata": {},
     "output_type": "execute_result"
    }
   ],
   "source": [
    "# Dropping irrelevant columns\n",
    "\n",
    "df=df.drop([\"YearEnd\", \"Datasource\", \"Topic\", \"Data_Value_Unit\", \"Data_Value_Type\", \n",
    "            \"Data_Value_Footnote_Symbol\",\"Data_Value_Footnote\", \"Low_Confidence_Limit\",\"High_Confidence_Limit \",\n",
    "            \"QuestionID\",\"ClassID\",\"TopicID\", \"DataValueTypeID\", \n",
    "            \"StratificationCategoryId1\",\"StratificationID1\"], axis=1)\n",
    "df.columns"
   ]
  },
  {
   "cell_type": "code",
   "execution_count": 5,
   "id": "646c51a8",
   "metadata": {},
   "outputs": [
    {
     "data": {
      "text/plain": [
       "Index(['Year', 'LocationAbbr', 'LocationDesc', 'Class', 'Question',\n",
       "       'Data_Value', 'Data_Value_Alt', 'Sample_Size', 'Total', 'Age(years)',\n",
       "       'Education', 'Gender', 'Income', 'Race/Ethnicity', 'GeoLocation',\n",
       "       'LocationID', 'StratificationCategory1', 'Stratification1'],\n",
       "      dtype='object')"
      ]
     },
     "execution_count": 5,
     "metadata": {},
     "output_type": "execute_result"
    }
   ],
   "source": [
    "# Rename the columns\n",
    "\n",
    "df.rename(columns={\"YearStart\":\"Year\"}, inplace=True)\n",
    "df.columns"
   ]
  },
  {
   "cell_type": "code",
   "execution_count": 6,
   "id": "e38ce2a4",
   "metadata": {},
   "outputs": [
    {
     "name": "stdout",
     "output_type": "stream",
     "text": [
      "[2011, 2012, 2013, 2014, 2015, 2016, 2017, 2018, 2019, 2020]\n"
     ]
    }
   ],
   "source": [
    "# Find the unique value of \"Year\" in df\n",
    "\n",
    "print(sorted(df.Year.unique()))"
   ]
  },
  {
   "cell_type": "code",
   "execution_count": 7,
   "id": "2a76fd6f",
   "metadata": {},
   "outputs": [
    {
     "name": "stdout",
     "output_type": "stream",
     "text": [
      "['Alabama', 'Alaska', 'Arizona', 'Arkansas', 'California', 'Colorado', 'Connecticut', 'Delaware', 'District of Columbia', 'Florida', 'Georgia', 'Guam', 'Hawaii', 'Idaho', 'Illinois', 'Indiana', 'Iowa', 'Kansas', 'Kentucky', 'Louisiana', 'Maine', 'Maryland', 'Massachusetts', 'Michigan', 'Minnesota', 'Mississippi', 'Missouri', 'Montana', 'National', 'Nebraska', 'Nevada', 'New Hampshire', 'New Jersey', 'New Mexico', 'New York', 'North Carolina', 'North Dakota', 'Ohio', 'Oklahoma', 'Oregon', 'Pennsylvania', 'Puerto Rico', 'Rhode Island', 'South Carolina', 'South Dakota', 'Tennessee', 'Texas', 'Utah', 'Vermont', 'Virgin Islands', 'Virginia', 'Washington', 'West Virginia', 'Wisconsin', 'Wyoming']\n"
     ]
    }
   ],
   "source": [
    "# Find the unique value of \"LocationDesc\" in df\n",
    "\n",
    "print(sorted(df.LocationDesc.unique()))"
   ]
  },
  {
   "cell_type": "code",
   "execution_count": 8,
   "id": "63480606",
   "metadata": {},
   "outputs": [
    {
     "data": {
      "text/plain": [
       "55"
      ]
     },
     "execution_count": 8,
     "metadata": {},
     "output_type": "execute_result"
    }
   ],
   "source": [
    "# Find the lenght of unique \"LocationDesc\" in df\n",
    "\n",
    "len(df.LocationDesc.unique())"
   ]
  },
  {
   "cell_type": "markdown",
   "id": "ea50fabe",
   "metadata": {},
   "source": [
    "We will analyze the data from 2018 only since it is the most recent and more complete in comparison to the data from 2019 and 2020 (the data from 2019 and 2020 doesn't include Virginia). We will exclude data from Guam, Puerto Rico, and Virgin Islands. \n",
    "\n",
    "Note that few of the previous years have more data than 2018, but 2018 is chosen since it is more recent."
   ]
  },
  {
   "cell_type": "code",
   "execution_count": 9,
   "id": "b8a42ede",
   "metadata": {},
   "outputs": [
    {
     "data": {
      "text/html": [
       "<div>\n",
       "<style scoped>\n",
       "    .dataframe tbody tr th:only-of-type {\n",
       "        vertical-align: middle;\n",
       "    }\n",
       "\n",
       "    .dataframe tbody tr th {\n",
       "        vertical-align: top;\n",
       "    }\n",
       "\n",
       "    .dataframe thead th {\n",
       "        text-align: right;\n",
       "    }\n",
       "</style>\n",
       "<table border=\"1\" class=\"dataframe\">\n",
       "  <thead>\n",
       "    <tr style=\"text-align: right;\">\n",
       "      <th></th>\n",
       "      <th>Year</th>\n",
       "      <th>LocationAbbr</th>\n",
       "      <th>LocationDesc</th>\n",
       "      <th>Class</th>\n",
       "      <th>Question</th>\n",
       "      <th>Data_Value</th>\n",
       "      <th>Data_Value_Alt</th>\n",
       "      <th>Sample_Size</th>\n",
       "      <th>Total</th>\n",
       "      <th>Age(years)</th>\n",
       "      <th>Education</th>\n",
       "      <th>Gender</th>\n",
       "      <th>Income</th>\n",
       "      <th>Race/Ethnicity</th>\n",
       "      <th>GeoLocation</th>\n",
       "      <th>LocationID</th>\n",
       "      <th>StratificationCategory1</th>\n",
       "      <th>Stratification1</th>\n",
       "    </tr>\n",
       "  </thead>\n",
       "  <tbody>\n",
       "    <tr>\n",
       "      <th>0</th>\n",
       "      <td>2018</td>\n",
       "      <td>MD</td>\n",
       "      <td>Maryland</td>\n",
       "      <td>Physical Activity</td>\n",
       "      <td>Percent of adults who engage in no leisure-tim...</td>\n",
       "      <td>32.5</td>\n",
       "      <td>32.5</td>\n",
       "      <td>671.0</td>\n",
       "      <td>NaN</td>\n",
       "      <td>NaN</td>\n",
       "      <td>NaN</td>\n",
       "      <td>NaN</td>\n",
       "      <td>NaN</td>\n",
       "      <td>Hispanic</td>\n",
       "      <td>(39.29058096400047, -76.60926011099963)</td>\n",
       "      <td>24</td>\n",
       "      <td>Race/Ethnicity</td>\n",
       "      <td>Hispanic</td>\n",
       "    </tr>\n",
       "    <tr>\n",
       "      <th>1</th>\n",
       "      <td>2018</td>\n",
       "      <td>AL</td>\n",
       "      <td>Alabama</td>\n",
       "      <td>Obesity / Weight Status</td>\n",
       "      <td>Percent of adults aged 18 years and older who ...</td>\n",
       "      <td>31.9</td>\n",
       "      <td>31.9</td>\n",
       "      <td>719.0</td>\n",
       "      <td>NaN</td>\n",
       "      <td>35 - 44</td>\n",
       "      <td>NaN</td>\n",
       "      <td>NaN</td>\n",
       "      <td>NaN</td>\n",
       "      <td>NaN</td>\n",
       "      <td>(32.84057112200048, -86.63186076199969)</td>\n",
       "      <td>1</td>\n",
       "      <td>Age (years)</td>\n",
       "      <td>35 - 44</td>\n",
       "    </tr>\n",
       "    <tr>\n",
       "      <th>2</th>\n",
       "      <td>2018</td>\n",
       "      <td>TX</td>\n",
       "      <td>Texas</td>\n",
       "      <td>Obesity / Weight Status</td>\n",
       "      <td>Percent of adults aged 18 years and older who ...</td>\n",
       "      <td>27.2</td>\n",
       "      <td>27.2</td>\n",
       "      <td>5451.0</td>\n",
       "      <td>NaN</td>\n",
       "      <td>NaN</td>\n",
       "      <td>NaN</td>\n",
       "      <td>Female</td>\n",
       "      <td>NaN</td>\n",
       "      <td>NaN</td>\n",
       "      <td>(31.827240407000488, -99.42677020599967)</td>\n",
       "      <td>48</td>\n",
       "      <td>Gender</td>\n",
       "      <td>Female</td>\n",
       "    </tr>\n",
       "    <tr>\n",
       "      <th>3</th>\n",
       "      <td>2018</td>\n",
       "      <td>IA</td>\n",
       "      <td>Iowa</td>\n",
       "      <td>Obesity / Weight Status</td>\n",
       "      <td>Percent of adults aged 18 years and older who ...</td>\n",
       "      <td>38.0</td>\n",
       "      <td>38.0</td>\n",
       "      <td>2654.0</td>\n",
       "      <td>NaN</td>\n",
       "      <td>NaN</td>\n",
       "      <td>High school graduate</td>\n",
       "      <td>NaN</td>\n",
       "      <td>NaN</td>\n",
       "      <td>NaN</td>\n",
       "      <td>(42.46940091300047, -93.81649055599968)</td>\n",
       "      <td>19</td>\n",
       "      <td>Education</td>\n",
       "      <td>High school graduate</td>\n",
       "    </tr>\n",
       "    <tr>\n",
       "      <th>4</th>\n",
       "      <td>2018</td>\n",
       "      <td>TX</td>\n",
       "      <td>Texas</td>\n",
       "      <td>Obesity / Weight Status</td>\n",
       "      <td>Percent of adults aged 18 years and older who ...</td>\n",
       "      <td>33.5</td>\n",
       "      <td>33.5</td>\n",
       "      <td>4698.0</td>\n",
       "      <td>NaN</td>\n",
       "      <td>NaN</td>\n",
       "      <td>NaN</td>\n",
       "      <td>Male</td>\n",
       "      <td>NaN</td>\n",
       "      <td>NaN</td>\n",
       "      <td>(31.827240407000488, -99.42677020599967)</td>\n",
       "      <td>48</td>\n",
       "      <td>Gender</td>\n",
       "      <td>Male</td>\n",
       "    </tr>\n",
       "  </tbody>\n",
       "</table>\n",
       "</div>"
      ],
      "text/plain": [
       "   Year LocationAbbr LocationDesc                    Class  \\\n",
       "0  2018           MD     Maryland        Physical Activity   \n",
       "1  2018           AL      Alabama  Obesity / Weight Status   \n",
       "2  2018           TX        Texas  Obesity / Weight Status   \n",
       "3  2018           IA         Iowa  Obesity / Weight Status   \n",
       "4  2018           TX        Texas  Obesity / Weight Status   \n",
       "\n",
       "                                            Question  Data_Value  \\\n",
       "0  Percent of adults who engage in no leisure-tim...        32.5   \n",
       "1  Percent of adults aged 18 years and older who ...        31.9   \n",
       "2  Percent of adults aged 18 years and older who ...        27.2   \n",
       "3  Percent of adults aged 18 years and older who ...        38.0   \n",
       "4  Percent of adults aged 18 years and older who ...        33.5   \n",
       "\n",
       "   Data_Value_Alt  Sample_Size Total Age(years)             Education  Gender  \\\n",
       "0            32.5        671.0   NaN        NaN                   NaN     NaN   \n",
       "1            31.9        719.0   NaN    35 - 44                   NaN     NaN   \n",
       "2            27.2       5451.0   NaN        NaN                   NaN  Female   \n",
       "3            38.0       2654.0   NaN        NaN  High school graduate     NaN   \n",
       "4            33.5       4698.0   NaN        NaN                   NaN    Male   \n",
       "\n",
       "  Income Race/Ethnicity                               GeoLocation  LocationID  \\\n",
       "0    NaN       Hispanic   (39.29058096400047, -76.60926011099963)          24   \n",
       "1    NaN            NaN   (32.84057112200048, -86.63186076199969)           1   \n",
       "2    NaN            NaN  (31.827240407000488, -99.42677020599967)          48   \n",
       "3    NaN            NaN   (42.46940091300047, -93.81649055599968)          19   \n",
       "4    NaN            NaN  (31.827240407000488, -99.42677020599967)          48   \n",
       "\n",
       "  StratificationCategory1       Stratification1  \n",
       "0          Race/Ethnicity              Hispanic  \n",
       "1             Age (years)               35 - 44  \n",
       "2                  Gender                Female  \n",
       "3               Education  High school graduate  \n",
       "4                  Gender                  Male  "
      ]
     },
     "execution_count": 9,
     "metadata": {},
     "output_type": "execute_result"
    }
   ],
   "source": [
    "# Select data from 2018 and created df2\n",
    "\n",
    "df2=df.loc[(df.Year == 2018)]\n",
    "\n",
    "# Select national data from df2 and call it df2n for later analysis\n",
    "df2n = df2[(df2['LocationDesc']=='National')]\n",
    "df2n = df2n.reset_index(drop = True)\n",
    "\n",
    "# Remove National, Guam, and Puerto Rico, Virgin Islands from df2\n",
    "\n",
    "df2=df2[~(df2['LocationDesc']=='National')]\n",
    "df2=df2[~(df2['LocationDesc']=='Guam')]\n",
    "df2=df2[~(df2['LocationDesc']=='Puerto Rico')]\n",
    "df2=df2[~(df2['LocationDesc']=='Virgin Islands')]\n",
    "df2 = df2.reset_index(drop = True)\n",
    "\n",
    "df2.head()"
   ]
  },
  {
   "cell_type": "code",
   "execution_count": 10,
   "id": "1f9f81b3",
   "metadata": {},
   "outputs": [
    {
     "name": "stdout",
     "output_type": "stream",
     "text": [
      "['Alabama', 'Alaska', 'Arizona', 'Arkansas', 'California', 'Colorado', 'Connecticut', 'Delaware', 'District of Columbia', 'Florida', 'Georgia', 'Hawaii', 'Idaho', 'Illinois', 'Indiana', 'Iowa', 'Kansas', 'Kentucky', 'Louisiana', 'Maine', 'Maryland', 'Massachusetts', 'Michigan', 'Minnesota', 'Mississippi', 'Missouri', 'Montana', 'Nebraska', 'Nevada', 'New Hampshire', 'New Jersey', 'New Mexico', 'New York', 'North Carolina', 'North Dakota', 'Ohio', 'Oklahoma', 'Oregon', 'Pennsylvania', 'Rhode Island', 'South Carolina', 'South Dakota', 'Tennessee', 'Texas', 'Utah', 'Vermont', 'Virginia', 'Washington', 'West Virginia', 'Wisconsin', 'Wyoming']\n"
     ]
    }
   ],
   "source": [
    "# Find the unique value of \"LocationDesc\" in the df2\n",
    "\n",
    "print(sorted(df2.LocationDesc.unique()))"
   ]
  },
  {
   "cell_type": "code",
   "execution_count": 11,
   "id": "46841780",
   "metadata": {},
   "outputs": [
    {
     "data": {
      "text/plain": [
       "51"
      ]
     },
     "execution_count": 11,
     "metadata": {},
     "output_type": "execute_result"
    }
   ],
   "source": [
    "# Find the lenght of unique \"LocationDesc\" in df2\n",
    "\n",
    "len(df2.LocationDesc.unique())"
   ]
  },
  {
   "cell_type": "code",
   "execution_count": 12,
   "id": "d2324646",
   "metadata": {},
   "outputs": [
    {
     "name": "stdout",
     "output_type": "stream",
     "text": [
      "<class 'pandas.core.frame.DataFrame'>\n",
      "RangeIndex: 4284 entries, 0 to 4283\n",
      "Data columns (total 18 columns):\n",
      " #   Column                   Non-Null Count  Dtype  \n",
      "---  ------                   --------------  -----  \n",
      " 0   Year                     4284 non-null   int64  \n",
      " 1   LocationAbbr             4284 non-null   object \n",
      " 2   LocationDesc             4284 non-null   object \n",
      " 3   Class                    4284 non-null   object \n",
      " 4   Question                 4284 non-null   object \n",
      " 5   Data_Value               3893 non-null   float64\n",
      " 6   Data_Value_Alt           3893 non-null   float64\n",
      " 7   Sample_Size              3893 non-null   float64\n",
      " 8   Total                    153 non-null    object \n",
      " 9   Age(years)               918 non-null    object \n",
      " 10  Education                612 non-null    object \n",
      " 11  Gender                   306 non-null    object \n",
      " 12  Income                   1071 non-null   object \n",
      " 13  Race/Ethnicity           1224 non-null   object \n",
      " 14  GeoLocation              4284 non-null   object \n",
      " 15  LocationID               4284 non-null   int64  \n",
      " 16  StratificationCategory1  4284 non-null   object \n",
      " 17  Stratification1          4284 non-null   object \n",
      "dtypes: float64(3), int64(2), object(13)\n",
      "memory usage: 602.6+ KB\n"
     ]
    }
   ],
   "source": [
    "# get a quick description of df2\n",
    "\n",
    "df2.info()"
   ]
  },
  {
   "cell_type": "code",
   "execution_count": 13,
   "id": "0d253dd5",
   "metadata": {},
   "outputs": [],
   "source": [
    "#Create separate Dataform from df by gender df2_gen, by education level df2_edu, \n",
    "# and by income df2_edu\n",
    "\n",
    "df2_gen=df2[(df2['Stratification1']=='Male')|(df2['Stratification1']=='Female')]\n",
    "df2_edu=df2[df2['StratificationCategory1']=='Education']\n",
    "df2_inc=df2[df2['StratificationCategory1']=='Income']\n",
    "\n",
    "#reset index for each of the new dataforms\n",
    "\n",
    "df2_gen = df2_gen.reset_index(drop = True)\n",
    "df2_edu = df2_edu.reset_index(drop = True)\n",
    "df2_inc = df2_inc.reset_index(drop = True)"
   ]
  },
  {
   "cell_type": "code",
   "execution_count": 14,
   "id": "69c88614",
   "metadata": {},
   "outputs": [
    {
     "data": {
      "text/html": [
       "<div>\n",
       "<style scoped>\n",
       "    .dataframe tbody tr th:only-of-type {\n",
       "        vertical-align: middle;\n",
       "    }\n",
       "\n",
       "    .dataframe tbody tr th {\n",
       "        vertical-align: top;\n",
       "    }\n",
       "\n",
       "    .dataframe thead th {\n",
       "        text-align: right;\n",
       "    }\n",
       "</style>\n",
       "<table border=\"1\" class=\"dataframe\">\n",
       "  <thead>\n",
       "    <tr style=\"text-align: right;\">\n",
       "      <th></th>\n",
       "      <th>Year</th>\n",
       "      <th>LocationAbbr</th>\n",
       "      <th>LocationDesc</th>\n",
       "      <th>Class</th>\n",
       "      <th>Question</th>\n",
       "      <th>Data_Value</th>\n",
       "      <th>Data_Value_Alt</th>\n",
       "      <th>Sample_Size</th>\n",
       "      <th>Total</th>\n",
       "      <th>Age(years)</th>\n",
       "      <th>Education</th>\n",
       "      <th>Gender</th>\n",
       "      <th>Income</th>\n",
       "      <th>Race/Ethnicity</th>\n",
       "      <th>GeoLocation</th>\n",
       "      <th>LocationID</th>\n",
       "      <th>StratificationCategory1</th>\n",
       "      <th>Stratification1</th>\n",
       "    </tr>\n",
       "  </thead>\n",
       "  <tbody>\n",
       "    <tr>\n",
       "      <th>0</th>\n",
       "      <td>2018</td>\n",
       "      <td>IA</td>\n",
       "      <td>Iowa</td>\n",
       "      <td>Obesity / Weight Status</td>\n",
       "      <td>Percent of adults aged 18 years and older who ...</td>\n",
       "      <td>38.0</td>\n",
       "      <td>38.0</td>\n",
       "      <td>2654.0</td>\n",
       "      <td>NaN</td>\n",
       "      <td>NaN</td>\n",
       "      <td>High school graduate</td>\n",
       "      <td>NaN</td>\n",
       "      <td>NaN</td>\n",
       "      <td>NaN</td>\n",
       "      <td>(42.46940091300047, -93.81649055599968)</td>\n",
       "      <td>19</td>\n",
       "      <td>Education</td>\n",
       "      <td>High school graduate</td>\n",
       "    </tr>\n",
       "    <tr>\n",
       "      <th>1</th>\n",
       "      <td>2018</td>\n",
       "      <td>MA</td>\n",
       "      <td>Massachusetts</td>\n",
       "      <td>Obesity / Weight Status</td>\n",
       "      <td>Percent of adults aged 18 years and older who ...</td>\n",
       "      <td>37.1</td>\n",
       "      <td>37.1</td>\n",
       "      <td>1133.0</td>\n",
       "      <td>NaN</td>\n",
       "      <td>NaN</td>\n",
       "      <td>High school graduate</td>\n",
       "      <td>NaN</td>\n",
       "      <td>NaN</td>\n",
       "      <td>NaN</td>\n",
       "      <td>(42.27687047000046, -72.08269067499964)</td>\n",
       "      <td>25</td>\n",
       "      <td>Education</td>\n",
       "      <td>High school graduate</td>\n",
       "    </tr>\n",
       "    <tr>\n",
       "      <th>2</th>\n",
       "      <td>2018</td>\n",
       "      <td>SC</td>\n",
       "      <td>South Carolina</td>\n",
       "      <td>Obesity / Weight Status</td>\n",
       "      <td>Percent of adults aged 18 years and older who ...</td>\n",
       "      <td>36.8</td>\n",
       "      <td>36.8</td>\n",
       "      <td>2974.0</td>\n",
       "      <td>NaN</td>\n",
       "      <td>NaN</td>\n",
       "      <td>High school graduate</td>\n",
       "      <td>NaN</td>\n",
       "      <td>NaN</td>\n",
       "      <td>NaN</td>\n",
       "      <td>(33.998821303000454, -81.04537120699968)</td>\n",
       "      <td>45</td>\n",
       "      <td>Education</td>\n",
       "      <td>High school graduate</td>\n",
       "    </tr>\n",
       "  </tbody>\n",
       "</table>\n",
       "</div>"
      ],
      "text/plain": [
       "   Year LocationAbbr    LocationDesc                    Class  \\\n",
       "0  2018           IA            Iowa  Obesity / Weight Status   \n",
       "1  2018           MA   Massachusetts  Obesity / Weight Status   \n",
       "2  2018           SC  South Carolina  Obesity / Weight Status   \n",
       "\n",
       "                                            Question  Data_Value  \\\n",
       "0  Percent of adults aged 18 years and older who ...        38.0   \n",
       "1  Percent of adults aged 18 years and older who ...        37.1   \n",
       "2  Percent of adults aged 18 years and older who ...        36.8   \n",
       "\n",
       "   Data_Value_Alt  Sample_Size Total Age(years)             Education Gender  \\\n",
       "0            38.0       2654.0   NaN        NaN  High school graduate    NaN   \n",
       "1            37.1       1133.0   NaN        NaN  High school graduate    NaN   \n",
       "2            36.8       2974.0   NaN        NaN  High school graduate    NaN   \n",
       "\n",
       "  Income Race/Ethnicity                               GeoLocation  LocationID  \\\n",
       "0    NaN            NaN   (42.46940091300047, -93.81649055599968)          19   \n",
       "1    NaN            NaN   (42.27687047000046, -72.08269067499964)          25   \n",
       "2    NaN            NaN  (33.998821303000454, -81.04537120699968)          45   \n",
       "\n",
       "  StratificationCategory1       Stratification1  \n",
       "0               Education  High school graduate  \n",
       "1               Education  High school graduate  \n",
       "2               Education  High school graduate  "
      ]
     },
     "execution_count": 14,
     "metadata": {},
     "output_type": "execute_result"
    }
   ],
   "source": [
    "# Check out the first few rows of df2_edu\n",
    "\n",
    "df2_edu.head(3)"
   ]
  },
  {
   "cell_type": "code",
   "execution_count": 15,
   "id": "d46a7a7c",
   "metadata": {},
   "outputs": [
    {
     "data": {
      "text/html": [
       "<div>\n",
       "<style scoped>\n",
       "    .dataframe tbody tr th:only-of-type {\n",
       "        vertical-align: middle;\n",
       "    }\n",
       "\n",
       "    .dataframe tbody tr th {\n",
       "        vertical-align: top;\n",
       "    }\n",
       "\n",
       "    .dataframe thead th {\n",
       "        text-align: right;\n",
       "    }\n",
       "</style>\n",
       "<table border=\"1\" class=\"dataframe\">\n",
       "  <thead>\n",
       "    <tr style=\"text-align: right;\">\n",
       "      <th></th>\n",
       "      <th>Year</th>\n",
       "      <th>LocationAbbr</th>\n",
       "      <th>LocationDesc</th>\n",
       "      <th>Class</th>\n",
       "      <th>Question</th>\n",
       "      <th>Data_Value</th>\n",
       "      <th>Data_Value_Alt</th>\n",
       "      <th>Sample_Size</th>\n",
       "      <th>Total</th>\n",
       "      <th>Age(years)</th>\n",
       "      <th>Education</th>\n",
       "      <th>Gender</th>\n",
       "      <th>Income</th>\n",
       "      <th>Race/Ethnicity</th>\n",
       "      <th>GeoLocation</th>\n",
       "      <th>LocationID</th>\n",
       "      <th>StratificationCategory1</th>\n",
       "      <th>Stratification1</th>\n",
       "    </tr>\n",
       "  </thead>\n",
       "  <tbody>\n",
       "    <tr>\n",
       "      <th>0</th>\n",
       "      <td>2018</td>\n",
       "      <td>TX</td>\n",
       "      <td>Texas</td>\n",
       "      <td>Obesity / Weight Status</td>\n",
       "      <td>Percent of adults aged 18 years and older who ...</td>\n",
       "      <td>27.2</td>\n",
       "      <td>27.2</td>\n",
       "      <td>5451.0</td>\n",
       "      <td>NaN</td>\n",
       "      <td>NaN</td>\n",
       "      <td>NaN</td>\n",
       "      <td>Female</td>\n",
       "      <td>NaN</td>\n",
       "      <td>NaN</td>\n",
       "      <td>(31.827240407000488, -99.42677020599967)</td>\n",
       "      <td>48</td>\n",
       "      <td>Gender</td>\n",
       "      <td>Female</td>\n",
       "    </tr>\n",
       "    <tr>\n",
       "      <th>1</th>\n",
       "      <td>2018</td>\n",
       "      <td>TX</td>\n",
       "      <td>Texas</td>\n",
       "      <td>Obesity / Weight Status</td>\n",
       "      <td>Percent of adults aged 18 years and older who ...</td>\n",
       "      <td>33.5</td>\n",
       "      <td>33.5</td>\n",
       "      <td>4698.0</td>\n",
       "      <td>NaN</td>\n",
       "      <td>NaN</td>\n",
       "      <td>NaN</td>\n",
       "      <td>Male</td>\n",
       "      <td>NaN</td>\n",
       "      <td>NaN</td>\n",
       "      <td>(31.827240407000488, -99.42677020599967)</td>\n",
       "      <td>48</td>\n",
       "      <td>Gender</td>\n",
       "      <td>Male</td>\n",
       "    </tr>\n",
       "    <tr>\n",
       "      <th>2</th>\n",
       "      <td>2018</td>\n",
       "      <td>NJ</td>\n",
       "      <td>New Jersey</td>\n",
       "      <td>Physical Activity</td>\n",
       "      <td>Percent of adults who engage in no leisure-tim...</td>\n",
       "      <td>30.8</td>\n",
       "      <td>30.8</td>\n",
       "      <td>1601.0</td>\n",
       "      <td>NaN</td>\n",
       "      <td>NaN</td>\n",
       "      <td>NaN</td>\n",
       "      <td>Female</td>\n",
       "      <td>NaN</td>\n",
       "      <td>NaN</td>\n",
       "      <td>(40.13057004800049, -74.27369128799967)</td>\n",
       "      <td>34</td>\n",
       "      <td>Gender</td>\n",
       "      <td>Female</td>\n",
       "    </tr>\n",
       "  </tbody>\n",
       "</table>\n",
       "</div>"
      ],
      "text/plain": [
       "   Year LocationAbbr LocationDesc                    Class  \\\n",
       "0  2018           TX        Texas  Obesity / Weight Status   \n",
       "1  2018           TX        Texas  Obesity / Weight Status   \n",
       "2  2018           NJ   New Jersey        Physical Activity   \n",
       "\n",
       "                                            Question  Data_Value  \\\n",
       "0  Percent of adults aged 18 years and older who ...        27.2   \n",
       "1  Percent of adults aged 18 years and older who ...        33.5   \n",
       "2  Percent of adults who engage in no leisure-tim...        30.8   \n",
       "\n",
       "   Data_Value_Alt  Sample_Size Total Age(years) Education  Gender Income  \\\n",
       "0            27.2       5451.0   NaN        NaN       NaN  Female    NaN   \n",
       "1            33.5       4698.0   NaN        NaN       NaN    Male    NaN   \n",
       "2            30.8       1601.0   NaN        NaN       NaN  Female    NaN   \n",
       "\n",
       "  Race/Ethnicity                               GeoLocation  LocationID  \\\n",
       "0            NaN  (31.827240407000488, -99.42677020599967)          48   \n",
       "1            NaN  (31.827240407000488, -99.42677020599967)          48   \n",
       "2            NaN   (40.13057004800049, -74.27369128799967)          34   \n",
       "\n",
       "  StratificationCategory1 Stratification1  \n",
       "0                  Gender          Female  \n",
       "1                  Gender            Male  \n",
       "2                  Gender          Female  "
      ]
     },
     "execution_count": 15,
     "metadata": {},
     "output_type": "execute_result"
    }
   ],
   "source": [
    "# check out the first few rows of df2_gen\n",
    "\n",
    "df2_gen.head(3)"
   ]
  },
  {
   "cell_type": "code",
   "execution_count": 16,
   "id": "cc0820f8",
   "metadata": {},
   "outputs": [
    {
     "data": {
      "text/html": [
       "<div>\n",
       "<style scoped>\n",
       "    .dataframe tbody tr th:only-of-type {\n",
       "        vertical-align: middle;\n",
       "    }\n",
       "\n",
       "    .dataframe tbody tr th {\n",
       "        vertical-align: top;\n",
       "    }\n",
       "\n",
       "    .dataframe thead th {\n",
       "        text-align: right;\n",
       "    }\n",
       "</style>\n",
       "<table border=\"1\" class=\"dataframe\">\n",
       "  <thead>\n",
       "    <tr style=\"text-align: right;\">\n",
       "      <th></th>\n",
       "      <th>Year</th>\n",
       "      <th>LocationAbbr</th>\n",
       "      <th>LocationDesc</th>\n",
       "      <th>Class</th>\n",
       "      <th>Question</th>\n",
       "      <th>Data_Value</th>\n",
       "      <th>Data_Value_Alt</th>\n",
       "      <th>Sample_Size</th>\n",
       "      <th>Total</th>\n",
       "      <th>Age(years)</th>\n",
       "      <th>Education</th>\n",
       "      <th>Gender</th>\n",
       "      <th>Income</th>\n",
       "      <th>Race/Ethnicity</th>\n",
       "      <th>GeoLocation</th>\n",
       "      <th>LocationID</th>\n",
       "      <th>StratificationCategory1</th>\n",
       "      <th>Stratification1</th>\n",
       "    </tr>\n",
       "  </thead>\n",
       "  <tbody>\n",
       "    <tr>\n",
       "      <th>0</th>\n",
       "      <td>2018</td>\n",
       "      <td>MI</td>\n",
       "      <td>Michigan</td>\n",
       "      <td>Obesity / Weight Status</td>\n",
       "      <td>Percent of adults aged 18 years and older who ...</td>\n",
       "      <td>27.5</td>\n",
       "      <td>27.5</td>\n",
       "      <td>702.0</td>\n",
       "      <td>NaN</td>\n",
       "      <td>NaN</td>\n",
       "      <td>NaN</td>\n",
       "      <td>NaN</td>\n",
       "      <td>Less than $15,000</td>\n",
       "      <td>NaN</td>\n",
       "      <td>(44.6613195430005, -84.71439026999968)</td>\n",
       "      <td>26</td>\n",
       "      <td>Income</td>\n",
       "      <td>Less than $15,000</td>\n",
       "    </tr>\n",
       "    <tr>\n",
       "      <th>1</th>\n",
       "      <td>2018</td>\n",
       "      <td>AZ</td>\n",
       "      <td>Arizona</td>\n",
       "      <td>Obesity / Weight Status</td>\n",
       "      <td>Percent of adults aged 18 years and older who ...</td>\n",
       "      <td>33.9</td>\n",
       "      <td>33.9</td>\n",
       "      <td>1140.0</td>\n",
       "      <td>NaN</td>\n",
       "      <td>NaN</td>\n",
       "      <td>NaN</td>\n",
       "      <td>NaN</td>\n",
       "      <td>Data not reported</td>\n",
       "      <td>NaN</td>\n",
       "      <td>(34.865970280000454, -111.76381127699972)</td>\n",
       "      <td>4</td>\n",
       "      <td>Income</td>\n",
       "      <td>Data not reported</td>\n",
       "    </tr>\n",
       "    <tr>\n",
       "      <th>2</th>\n",
       "      <td>2018</td>\n",
       "      <td>VT</td>\n",
       "      <td>Vermont</td>\n",
       "      <td>Obesity / Weight Status</td>\n",
       "      <td>Percent of adults aged 18 years and older who ...</td>\n",
       "      <td>29.8</td>\n",
       "      <td>29.8</td>\n",
       "      <td>556.0</td>\n",
       "      <td>NaN</td>\n",
       "      <td>NaN</td>\n",
       "      <td>NaN</td>\n",
       "      <td>NaN</td>\n",
       "      <td>$25,000 - $34,999</td>\n",
       "      <td>NaN</td>\n",
       "      <td>(43.62538123900049, -72.51764079099962)</td>\n",
       "      <td>50</td>\n",
       "      <td>Income</td>\n",
       "      <td>$25,000 - $34,999</td>\n",
       "    </tr>\n",
       "  </tbody>\n",
       "</table>\n",
       "</div>"
      ],
      "text/plain": [
       "   Year LocationAbbr LocationDesc                    Class  \\\n",
       "0  2018           MI     Michigan  Obesity / Weight Status   \n",
       "1  2018           AZ      Arizona  Obesity / Weight Status   \n",
       "2  2018           VT      Vermont  Obesity / Weight Status   \n",
       "\n",
       "                                            Question  Data_Value  \\\n",
       "0  Percent of adults aged 18 years and older who ...        27.5   \n",
       "1  Percent of adults aged 18 years and older who ...        33.9   \n",
       "2  Percent of adults aged 18 years and older who ...        29.8   \n",
       "\n",
       "   Data_Value_Alt  Sample_Size Total Age(years) Education Gender  \\\n",
       "0            27.5        702.0   NaN        NaN       NaN    NaN   \n",
       "1            33.9       1140.0   NaN        NaN       NaN    NaN   \n",
       "2            29.8        556.0   NaN        NaN       NaN    NaN   \n",
       "\n",
       "              Income Race/Ethnicity  \\\n",
       "0  Less than $15,000            NaN   \n",
       "1  Data not reported            NaN   \n",
       "2  $25,000 - $34,999            NaN   \n",
       "\n",
       "                                 GeoLocation  LocationID  \\\n",
       "0     (44.6613195430005, -84.71439026999968)          26   \n",
       "1  (34.865970280000454, -111.76381127699972)           4   \n",
       "2    (43.62538123900049, -72.51764079099962)          50   \n",
       "\n",
       "  StratificationCategory1    Stratification1  \n",
       "0                  Income  Less than $15,000  \n",
       "1                  Income  Data not reported  \n",
       "2                  Income  $25,000 - $34,999  "
      ]
     },
     "execution_count": 16,
     "metadata": {},
     "output_type": "execute_result"
    }
   ],
   "source": [
    "# Check out the first few rows of df2_inc\n",
    "\n",
    "df2_inc.head(3)"
   ]
  },
  {
   "cell_type": "code",
   "execution_count": 17,
   "id": "892068cb",
   "metadata": {},
   "outputs": [
    {
     "data": {
      "text/plain": [
       "array(['Percent of adults who engage in no leisure-time physical activity',\n",
       "       'Percent of adults aged 18 years and older who have an overweight classification',\n",
       "       'Percent of adults aged 18 years and older who have obesity'],\n",
       "      dtype=object)"
      ]
     },
     "execution_count": 17,
     "metadata": {},
     "output_type": "execute_result"
    }
   ],
   "source": [
    "# get the questionare given in the 2018 survey\n",
    "\n",
    "df2.Question.unique()"
   ]
  },
  {
   "cell_type": "code",
   "execution_count": 18,
   "id": "35a73103",
   "metadata": {},
   "outputs": [
    {
     "data": {
      "text/plain": [
       "(102, 18)"
      ]
     },
     "execution_count": 18,
     "metadata": {},
     "output_type": "execute_result"
    }
   ],
   "source": [
    "# Select the data related to 'Percent of adults aged 18 years and older who have obesity'\n",
    "\n",
    "X=['Percent of adults aged 18 years and older who have obesity']\n",
    "df2_gen=df2_gen[df2_gen['Question']==X[0]]\n",
    "#df2_gen.head()\n",
    "df2_gen.shape"
   ]
  },
  {
   "cell_type": "markdown",
   "id": "8d11412c",
   "metadata": {},
   "source": [
    "<h3>Obesity over Male and Female in Each State</h3>"
   ]
  },
  {
   "cell_type": "code",
   "execution_count": 19,
   "id": "7cb1aa04",
   "metadata": {},
   "outputs": [
    {
     "name": "stdout",
     "output_type": "stream",
     "text": [
      "30.950000000000003\n"
     ]
    }
   ],
   "source": [
    "# Select the data related to 'Percent of adults aged 18 years and older who have obesity' and\n",
    "# it is either 'Male' or 'Female'\n",
    "\n",
    "df2n=df2n[df2n['Question']==X[0]]\n",
    "df2n=df2n[(df2n['Stratification1']=='Male')|(df2n['Stratification1']=='Female')]\n",
    "\n",
    "#calculate the average obesity rate (over men and women) for the country\n",
    "\n",
    "natmeanobesity2018=sum(df2n['Data_Value'])/len(df2n)\n",
    "print(natmeanobesity2018)"
   ]
  },
  {
   "cell_type": "code",
   "execution_count": 20,
   "id": "fd23cf35",
   "metadata": {},
   "outputs": [],
   "source": [
    "# Group df2_gen by LocationDesc and calculate the mean of Data_Value to create df2_gen_new \n",
    "\n",
    "gen_features = [\"LocationAbbr\", \"LocationDesc\", \"Data_Value\", \"Gender\"]\n",
    "df2_gen_features = df2_gen[gen_features]\n",
    "df2_gen_new = df2_gen_features.groupby([\"LocationDesc\"], as_index=False).mean()\n",
    "df2_gen_new.sort_values(by=['Data_Value'], inplace=True, ascending=False)"
   ]
  },
  {
   "cell_type": "code",
   "execution_count": 21,
   "id": "5de95f03",
   "metadata": {},
   "outputs": [
    {
     "data": {
      "text/plain": [
       "<matplotlib.lines.Line2D at 0x1bd88c42220>"
      ]
     },
     "execution_count": 21,
     "metadata": {},
     "output_type": "execute_result"
    },
    {
     "data": {
      "image/png": "[encoded data removed]",
      "text/plain": [
       "<Figure size 720x1152 with 2 Axes>"
      ]
     },
     "metadata": {
      "needs_background": "light"
     },
     "output_type": "display_data"
    }
   ],
   "source": [
    "plt.rc('font', family='serif')\n",
    "plt.rcParams.update({'font.size': 14})\n",
    "\n",
    "plt.figure(figsize = (10,16))\n",
    "\n",
    "plt.subplot(2,1,1)\n",
    "ax=sns.barplot(x=df2_gen_new.head(10).Data_Value, y=df2_gen_new.head(10).LocationDesc, palette=\"Blues\")\n",
    "ax.set_ylabel(' ')\n",
    "ax.set_xlabel('Percentage of adults aged 18 years and older (%)')\n",
    "ax.set_title('10 Most Obese States in 2018')\n",
    "\n",
    "plt.axvline(x=natmeanobesity2018, ls='--', color = 'r')\n",
    "\n",
    "plt.subplot(2,1,2)\n",
    "ax=sns.barplot(x=df2_gen_new.tail(10).Data_Value, y=df2_gen_new.tail(10).LocationDesc, palette=\"Blues\")\n",
    "ax.set_ylabel(' ')\n",
    "ax.set_xlabel('Percentage of adults aged 18 years and older (%)')\n",
    "ax.set_title('10 Least Obese States in 2018')\n",
    "\n",
    "plt.axvline(x=natmeanobesity2018, ls='--', color = 'r')"
   ]
  },
  {
   "cell_type": "markdown",
   "id": "e226aeb7",
   "metadata": {},
   "source": [
    "<h3>Effect of Income on Obesity</h3>"
   ]
  },
  {
   "cell_type": "code",
   "execution_count": 22,
   "id": "5488dc8c",
   "metadata": {},
   "outputs": [
    {
     "data": {
      "text/plain": [
       "(357, 18)"
      ]
     },
     "execution_count": 22,
     "metadata": {},
     "output_type": "execute_result"
    }
   ],
   "source": [
    "# get the dimension of df2_inc which associated with question 'Percent of adults aged 18 years \n",
    "# and older who have obesity'\n",
    "\n",
    "df2_inc=df2_inc[df2_inc['Question']==X[0]]\n",
    "#df2_gen.head()\n",
    "df2_inc.shape"
   ]
  },
  {
   "cell_type": "code",
   "execution_count": 23,
   "id": "d92863ec",
   "metadata": {},
   "outputs": [
    {
     "data": {
      "text/html": [
       "<div>\n",
       "<style scoped>\n",
       "    .dataframe tbody tr th:only-of-type {\n",
       "        vertical-align: middle;\n",
       "    }\n",
       "\n",
       "    .dataframe tbody tr th {\n",
       "        vertical-align: top;\n",
       "    }\n",
       "\n",
       "    .dataframe thead th {\n",
       "        text-align: right;\n",
       "    }\n",
       "</style>\n",
       "<table border=\"1\" class=\"dataframe\">\n",
       "  <thead>\n",
       "    <tr style=\"text-align: right;\">\n",
       "      <th></th>\n",
       "      <th>LocationDesc</th>\n",
       "      <th>Income</th>\n",
       "      <th>Data_Value</th>\n",
       "    </tr>\n",
       "  </thead>\n",
       "  <tbody>\n",
       "    <tr>\n",
       "      <th>0</th>\n",
       "      <td>Alabama</td>\n",
       "      <td>$15,000 - $24,999</td>\n",
       "      <td>38.4</td>\n",
       "    </tr>\n",
       "    <tr>\n",
       "      <th>1</th>\n",
       "      <td>Alabama</td>\n",
       "      <td>$25,000 - $34,999</td>\n",
       "      <td>35.1</td>\n",
       "    </tr>\n",
       "    <tr>\n",
       "      <th>2</th>\n",
       "      <td>Alabama</td>\n",
       "      <td>$35,000 - $49,999</td>\n",
       "      <td>37.7</td>\n",
       "    </tr>\n",
       "    <tr>\n",
       "      <th>3</th>\n",
       "      <td>Alabama</td>\n",
       "      <td>$50,000 - $74,999</td>\n",
       "      <td>38.6</td>\n",
       "    </tr>\n",
       "    <tr>\n",
       "      <th>4</th>\n",
       "      <td>Alabama</td>\n",
       "      <td>$75,000 or greater</td>\n",
       "      <td>32.1</td>\n",
       "    </tr>\n",
       "  </tbody>\n",
       "</table>\n",
       "</div>"
      ],
      "text/plain": [
       "  LocationDesc              Income  Data_Value\n",
       "0      Alabama   $15,000 - $24,999        38.4\n",
       "1      Alabama   $25,000 - $34,999        35.1\n",
       "2      Alabama   $35,000 - $49,999        37.7\n",
       "3      Alabama   $50,000 - $74,999        38.6\n",
       "4      Alabama  $75,000 or greater        32.1"
      ]
     },
     "execution_count": 23,
     "metadata": {},
     "output_type": "execute_result"
    }
   ],
   "source": [
    "# Group df2_inc by LocationDesc and Income to create df2_inc_new\n",
    "\n",
    "inc_features = [\"LocationAbbr\", \"LocationDesc\", \"Data_Value\", \"Income\"]\n",
    "df2_inc_features = df2_inc[inc_features]\n",
    "df2_inc_new = df2_inc_features.groupby([\"LocationDesc\", \"Income\"], as_index=False).mean()\n",
    "#df2_inc_new.set_index(\"LocationDesc\", inplace=True)  \n",
    "df2_inc_new.head(5)"
   ]
  },
  {
   "cell_type": "code",
   "execution_count": 24,
   "id": "f9ed2a23",
   "metadata": {},
   "outputs": [
    {
     "name": "stderr",
     "output_type": "stream",
     "text": [
      "C:\\Miniconda\\envs\\IBM_DS\\lib\\site-packages\\pandas\\util\\_decorators.py:311: SettingWithCopyWarning: \n",
      "A value is trying to be set on a copy of a slice from a DataFrame\n",
      "\n",
      "See the caveats in the documentation: https://pandas.pydata.org/pandas-docs/stable/user_guide/indexing.html#returning-a-view-versus-a-copy\n",
      "  return func(*args, **kwargs)\n"
     ]
    }
   ],
   "source": [
    "# Select the data from \"Less than $15,000\" to create df2_inc_low\n",
    "\n",
    "df2_inc_low = df2_inc_new.loc[df2_inc_new.Income == \"Less than $15,000\"]\n",
    "df2_inc_low.sort_values(by=['Data_Value'], inplace=True, ascending=False)"
   ]
  },
  {
   "cell_type": "code",
   "execution_count": 25,
   "id": "981fc631",
   "metadata": {},
   "outputs": [
    {
     "data": {
      "text/plain": [
       "<matplotlib.lines.Line2D at 0x1bd896325e0>"
      ]
     },
     "execution_count": 25,
     "metadata": {},
     "output_type": "execute_result"
    },
    {
     "data": {
      "image/png": "[encoded data removed]",
      "text/plain": [
       "<Figure size 1440x2160 with 1 Axes>"
      ]
     },
     "metadata": {
      "needs_background": "light"
     },
     "output_type": "display_data"
    }
   ],
   "source": [
    "# Let's visualize the obesity rate of adult age 18 and Older with income less than $15,000\n",
    "# by states\n",
    "\n",
    "plt.rc('font', family='serif')\n",
    "plt.rcParams.update({'font.size': 20})\n",
    "\n",
    "plt.figure(figsize = (20,30))\n",
    "\n",
    "ax=sns.barplot(x=df2_inc_low.Data_Value, y=df2_inc_low.LocationDesc, palette=\"Blues\")\n",
    "ax.set_ylabel(' ')\n",
    "ax.set_xlabel('Percentage (%)')\n",
    "ax.set_title('States with Adults Age 18 and Older who Have Obesity\\n and Income Less than $15,000 in 2018\\n')\n",
    "\n",
    "plt.axvline(x=natmeanobesity2018, ls='--', color = 'r')"
   ]
  },
  {
   "cell_type": "code",
   "execution_count": 26,
   "id": "e8b8f50f",
   "metadata": {},
   "outputs": [
    {
     "data": {
      "text/plain": [
       "<matplotlib.lines.Line2D at 0x1bd88ee47f0>"
      ]
     },
     "execution_count": 26,
     "metadata": {},
     "output_type": "execute_result"
    },
    {
     "data": {
      "image/png": "[encoded data removed]",
      "text/plain": [
       "<Figure size 576x432 with 1 Axes>"
      ]
     },
     "metadata": {
      "needs_background": "light"
     },
     "output_type": "display_data"
    }
   ],
   "source": [
    "# Let's visualize the mean obesity rate of adult age 18 and older based on education level\n",
    "\n",
    "# Group df2_inc_features by Income to create df2_inc_new2\n",
    "df2_inc_new2 = df2_inc_features.groupby([\"Income\"], as_index=False).mean()\n",
    "\n",
    "# Drop Income equals to \"Data not reported\" since it won't be any helpful for us\n",
    "\n",
    "df2_inc_new2 = df2_inc_new2[~(df2_inc_new2.Income == \"Data not reported\")]\n",
    "df2_inc_new2 = df2_inc_new2.reset_index(drop=True) # reset index\n",
    "df2_inc_new2.sort_values(by=['Data_Value'], inplace=True, ascending=False) #sort data\n",
    "\n",
    "plt.rc('font', family='serif')\n",
    "plt.rcParams.update({'font.size': 16})\n",
    "\n",
    "plt.figure(figsize = (8,6))\n",
    "\n",
    "ax=sns.barplot(x=df2_inc_new2.Data_Value, y=df2_inc_new2.Income, palette=\"Blues\")\n",
    "ax.set_ylabel(' ')\n",
    "ax.set_xlabel('Percentage of adults aged 18 years and older (%)')\n",
    "ax.set_title('Mean Obesity by Income in 2018\\n')\n",
    "\n",
    "plt.axvline(x=natmeanobesity2018, ls='--', color = 'r')"
   ]
  },
  {
   "cell_type": "markdown",
   "id": "94f501b7",
   "metadata": {},
   "source": [
    "<h4>ANOVA: Analysis of Variance</h4>\n",
    "<p>The Analysis of Variance  (ANOVA) is a statistical method used to test whether there are significant differences between the means of two or more groups. ANOVA returns two parameters:</p>\n",
    "\n",
    "<p><b>F-test score</b>: ANOVA assumes the means of all groups are the same, calculates how much the actual means deviate from the assumption, and reports it as the F-test score. A larger score means there is a larger difference between the means.</p>\n",
    "\n",
    "<p><b>P-value</b>:  P-value tells how statistically significant is our calculated score value.</p>\n",
    "\n",
    "<p>If our Data_Value variable is strongly correlated with the variable we are analyzing, expect ANOVA to return a sizeable F-test score and a small p-value.</p>"
   ]
  },
  {
   "cell_type": "code",
   "execution_count": 27,
   "id": "e85812d9",
   "metadata": {},
   "outputs": [
    {
     "data": {
      "text/html": [
       "<div>\n",
       "<style scoped>\n",
       "    .dataframe tbody tr th:only-of-type {\n",
       "        vertical-align: middle;\n",
       "    }\n",
       "\n",
       "    .dataframe tbody tr th {\n",
       "        vertical-align: top;\n",
       "    }\n",
       "\n",
       "    .dataframe thead th {\n",
       "        text-align: right;\n",
       "    }\n",
       "</style>\n",
       "<table border=\"1\" class=\"dataframe\">\n",
       "  <thead>\n",
       "    <tr style=\"text-align: right;\">\n",
       "      <th></th>\n",
       "      <th>Income</th>\n",
       "      <th>Data_Value</th>\n",
       "    </tr>\n",
       "  </thead>\n",
       "  <tbody>\n",
       "    <tr>\n",
       "      <th>3</th>\n",
       "      <td>Less than $15,000</td>\n",
       "      <td>41.3</td>\n",
       "    </tr>\n",
       "    <tr>\n",
       "      <th>4</th>\n",
       "      <td>$50,000 - $74,999</td>\n",
       "      <td>35.0</td>\n",
       "    </tr>\n",
       "    <tr>\n",
       "      <th>9</th>\n",
       "      <td>$75,000 or greater</td>\n",
       "      <td>34.0</td>\n",
       "    </tr>\n",
       "    <tr>\n",
       "      <th>18</th>\n",
       "      <td>$35,000 - $49,999</td>\n",
       "      <td>28.8</td>\n",
       "    </tr>\n",
       "    <tr>\n",
       "      <th>19</th>\n",
       "      <td>Data not reported</td>\n",
       "      <td>29.8</td>\n",
       "    </tr>\n",
       "    <tr>\n",
       "      <th>33</th>\n",
       "      <td>$15,000 - $24,999</td>\n",
       "      <td>35.1</td>\n",
       "    </tr>\n",
       "    <tr>\n",
       "      <th>37</th>\n",
       "      <td>$25,000 - $34,999</td>\n",
       "      <td>38.1</td>\n",
       "    </tr>\n",
       "  </tbody>\n",
       "</table>\n",
       "</div>"
      ],
      "text/plain": [
       "                Income  Data_Value\n",
       "3    Less than $15,000        41.3\n",
       "4    $50,000 - $74,999        35.0\n",
       "9   $75,000 or greater        34.0\n",
       "18   $35,000 - $49,999        28.8\n",
       "19   Data not reported        29.8\n",
       "33   $15,000 - $24,999        35.1\n",
       "37   $25,000 - $34,999        38.1"
      ]
     },
     "execution_count": 27,
     "metadata": {},
     "output_type": "execute_result"
    }
   ],
   "source": [
    "df2_inc_anv = df2_inc_features[[\"Income\", \"Data_Value\"]].groupby([\"Income\"])\n",
    "df2_inc_anv.head(1)"
   ]
  },
  {
   "cell_type": "code",
   "execution_count": 28,
   "id": "ea3e0847",
   "metadata": {},
   "outputs": [
    {
     "data": {
      "text/plain": [
       "Income\n",
       "$15,000 - $24,999      [$15,000 - $24,999]\n",
       "$25,000 - $34,999      [$25,000 - $34,999]\n",
       "$35,000 - $49,999      [$35,000 - $49,999]\n",
       "$50,000 - $74,999      [$50,000 - $74,999]\n",
       "$75,000 or greater    [$75,000 or greater]\n",
       "Data not reported      [Data not reported]\n",
       "Less than $15,000      [Less than $15,000]\n",
       "Name: Income, dtype: object"
      ]
     },
     "execution_count": 28,
     "metadata": {},
     "output_type": "execute_result"
    }
   ],
   "source": [
    "df2_inc_anv.Income.unique()"
   ]
  },
  {
   "cell_type": "code",
   "execution_count": 29,
   "id": "c77a4bf1",
   "metadata": {},
   "outputs": [
    {
     "name": "stdout",
     "output_type": "stream",
     "text": [
      "ANOVA results: F= 17.72750242785245 , P = 2.1578059722089567e-15\n"
     ]
    }
   ],
   "source": [
    "from scipy import stats\n",
    "# ANOVA\n",
    "f_val, p_val = stats.f_oneway(df2_inc_anv.get_group('Less than $15,000')['Data_Value'],\n",
    "                              df2_inc_anv.get_group('$15,000 - $24,999')['Data_Value'],\n",
    "                              df2_inc_anv.get_group('$35,000 - $49,999')['Data_Value'],\n",
    "                              df2_inc_anv.get_group('$50,000 - $74,999')['Data_Value'],\n",
    "                              df2_inc_anv.get_group('$25,000 - $34,999')['Data_Value'],\n",
    "                              df2_inc_anv.get_group('$75,000 or greater')['Data_Value'],)  \n",
    " \n",
    "print( \"ANOVA results: F=\", f_val, \", P =\", p_val)   "
   ]
  },
  {
   "cell_type": "markdown",
   "id": "502a476a",
   "metadata": {},
   "source": [
    "There was a statistically significant difference between income groups as determined by one-way ANOVA (F one-way = 17.73, p is close to zero)."
   ]
  },
  {
   "cell_type": "markdown",
   "id": "1833fe86",
   "metadata": {},
   "source": [
    "<h3>Effect of Education on Obesity</h3>"
   ]
  },
  {
   "cell_type": "code",
   "execution_count": 30,
   "id": "d02619d0",
   "metadata": {},
   "outputs": [
    {
     "data": {
      "text/plain": [
       "(204, 18)"
      ]
     },
     "execution_count": 30,
     "metadata": {},
     "output_type": "execute_result"
    }
   ],
   "source": [
    "# get the dimension of df2_edu which associated with question 'Percent of adults aged 18 years \n",
    "# and older who have obesity'\n",
    "\n",
    "df2_edu=df2_edu[df2_edu['Question']==X[0]]\n",
    "#df2_gen.head()\n",
    "df2_edu.shape"
   ]
  },
  {
   "cell_type": "code",
   "execution_count": 31,
   "id": "c683c057",
   "metadata": {},
   "outputs": [
    {
     "data": {
      "text/html": [
       "<div>\n",
       "<style scoped>\n",
       "    .dataframe tbody tr th:only-of-type {\n",
       "        vertical-align: middle;\n",
       "    }\n",
       "\n",
       "    .dataframe tbody tr th {\n",
       "        vertical-align: top;\n",
       "    }\n",
       "\n",
       "    .dataframe thead th {\n",
       "        text-align: right;\n",
       "    }\n",
       "</style>\n",
       "<table border=\"1\" class=\"dataframe\">\n",
       "  <thead>\n",
       "    <tr style=\"text-align: right;\">\n",
       "      <th></th>\n",
       "      <th>LocationDesc</th>\n",
       "      <th>Education</th>\n",
       "      <th>Data_Value</th>\n",
       "    </tr>\n",
       "  </thead>\n",
       "  <tbody>\n",
       "    <tr>\n",
       "      <th>0</th>\n",
       "      <td>Alabama</td>\n",
       "      <td>College graduate</td>\n",
       "      <td>29.4</td>\n",
       "    </tr>\n",
       "    <tr>\n",
       "      <th>1</th>\n",
       "      <td>Alabama</td>\n",
       "      <td>High school graduate</td>\n",
       "      <td>36.6</td>\n",
       "    </tr>\n",
       "    <tr>\n",
       "      <th>2</th>\n",
       "      <td>Alabama</td>\n",
       "      <td>Less than high school</td>\n",
       "      <td>39.2</td>\n",
       "    </tr>\n",
       "    <tr>\n",
       "      <th>3</th>\n",
       "      <td>Alabama</td>\n",
       "      <td>Some college or technical school</td>\n",
       "      <td>39.2</td>\n",
       "    </tr>\n",
       "    <tr>\n",
       "      <th>4</th>\n",
       "      <td>Alaska</td>\n",
       "      <td>College graduate</td>\n",
       "      <td>24.0</td>\n",
       "    </tr>\n",
       "  </tbody>\n",
       "</table>\n",
       "</div>"
      ],
      "text/plain": [
       "  LocationDesc                         Education  Data_Value\n",
       "0      Alabama                  College graduate        29.4\n",
       "1      Alabama              High school graduate        36.6\n",
       "2      Alabama             Less than high school        39.2\n",
       "3      Alabama  Some college or technical school        39.2\n",
       "4       Alaska                  College graduate        24.0"
      ]
     },
     "execution_count": 31,
     "metadata": {},
     "output_type": "execute_result"
    }
   ],
   "source": [
    "# Group df2_edu by LocationDesc and Education to create df2_edu_new\n",
    "\n",
    "edu_features = [\"LocationAbbr\", \"LocationDesc\", \"Data_Value\", \"Education\"]\n",
    "df2_edu_features = df2_edu[edu_features]\n",
    "df2_edu_new = df2_edu_features.groupby([\"LocationDesc\", \"Education\"], as_index=False).mean()  \n",
    "df2_edu_new.head(5)"
   ]
  },
  {
   "cell_type": "code",
   "execution_count": 32,
   "id": "21e3b27e",
   "metadata": {},
   "outputs": [
    {
     "data": {
      "text/plain": [
       "array(['College graduate', 'High school graduate',\n",
       "       'Less than high school', 'Some college or technical school'],\n",
       "      dtype=object)"
      ]
     },
     "execution_count": 32,
     "metadata": {},
     "output_type": "execute_result"
    }
   ],
   "source": [
    "# Find the unique value of 'Education'\n",
    "\n",
    "df2_edu_new.Education.unique()"
   ]
  },
  {
   "cell_type": "code",
   "execution_count": 33,
   "id": "c80e76ba",
   "metadata": {},
   "outputs": [
    {
     "name": "stderr",
     "output_type": "stream",
     "text": [
      "C:\\Miniconda\\envs\\IBM_DS\\lib\\site-packages\\pandas\\util\\_decorators.py:311: SettingWithCopyWarning: \n",
      "A value is trying to be set on a copy of a slice from a DataFrame\n",
      "\n",
      "See the caveats in the documentation: https://pandas.pydata.org/pandas-docs/stable/user_guide/indexing.html#returning-a-view-versus-a-copy\n",
      "  return func(*args, **kwargs)\n"
     ]
    }
   ],
   "source": [
    "# Select the data from \"Less than high school\" to create df2_edu_low\n",
    "\n",
    "df2_edu_low = df2_edu_new.loc[df2_edu_new.Education == \"Less than high school\"]\n",
    "df2_edu_low.sort_values(by=['Data_Value'], inplace=True, ascending=False)"
   ]
  },
  {
   "cell_type": "code",
   "execution_count": 34,
   "id": "e9a9f404",
   "metadata": {},
   "outputs": [
    {
     "data": {
      "text/plain": [
       "<matplotlib.lines.Line2D at 0x1bd88ff3b80>"
      ]
     },
     "execution_count": 34,
     "metadata": {},
     "output_type": "execute_result"
    },
    {
     "data": {
      "image/png": "[encoded data removed]",
      "text/plain": [
       "<Figure size 1440x2160 with 1 Axes>"
      ]
     },
     "metadata": {
      "needs_background": "light"
     },
     "output_type": "display_data"
    }
   ],
   "source": [
    "# Let's visualize the obesity rate of adult age 18 and Older with education less than high\n",
    "# school by states\n",
    "\n",
    "plt.rc('font', family='serif')\n",
    "plt.rcParams.update({'font.size': 20})\n",
    "\n",
    "plt.figure(figsize = (20,30))\n",
    "\n",
    "ax=sns.barplot(x=df2_edu_low.Data_Value, y=df2_edu_low.LocationDesc, palette=\"Blues\")\n",
    "ax.set_ylabel(' ')\n",
    "ax.set_xlabel('Percentage (%)')\n",
    "ax.set_title('States with Adults Age 18 and Older who Have Obesity\\n and Education Less than High School in 2018\\n')\n",
    "\n",
    "plt.axvline(x=natmeanobesity2018, ls='--', color = 'r')"
   ]
  },
  {
   "cell_type": "code",
   "execution_count": 35,
   "id": "fa4eb7a3",
   "metadata": {},
   "outputs": [
    {
     "data": {
      "text/plain": [
       "<matplotlib.lines.Line2D at 0x1bd896ff580>"
      ]
     },
     "execution_count": 35,
     "metadata": {},
     "output_type": "execute_result"
    },
    {
     "data": {
      "image/png": "[encoded data removed]",
      "text/plain": [
       "<Figure size 576x432 with 1 Axes>"
      ]
     },
     "metadata": {
      "needs_background": "light"
     },
     "output_type": "display_data"
    }
   ],
   "source": [
    "# Let's visualize the mean obesity rate of adult age 18 and Older based on education level\n",
    "\n",
    "df2_edu_new2 = df2_edu_features.groupby([\"Education\"], as_index=False).mean()\n",
    "df2_edu_new2.sort_values(by=['Data_Value'], inplace=True, ascending=False)\n",
    "\n",
    "plt.rc('font', family='serif')\n",
    "plt.rcParams.update({'font.size': 16})\n",
    "\n",
    "plt.figure(figsize = (8,6))\n",
    "\n",
    "ax=sns.barplot(x=df2_edu_new2.Data_Value, y=df2_edu_new2.Education, palette=\"Blues\")\n",
    "ax.set_ylabel(' ')\n",
    "ax.set_xlabel('Percentage of adults aged 18 years and older (%)')\n",
    "ax.set_title('Mean Obesity by Education in 2018\\n')\n",
    "\n",
    "plt.axvline(x=natmeanobesity2018, ls='--', color = 'r')"
   ]
  },
  {
   "cell_type": "markdown",
   "id": "7c56a11c",
   "metadata": {},
   "source": [
    "<h4>Let us calculate the ANOVA</h4>"
   ]
  },
  {
   "cell_type": "code",
   "execution_count": 36,
   "id": "29c22b1e",
   "metadata": {},
   "outputs": [
    {
     "data": {
      "text/html": [
       "<div>\n",
       "<style scoped>\n",
       "    .dataframe tbody tr th:only-of-type {\n",
       "        vertical-align: middle;\n",
       "    }\n",
       "\n",
       "    .dataframe tbody tr th {\n",
       "        vertical-align: top;\n",
       "    }\n",
       "\n",
       "    .dataframe thead th {\n",
       "        text-align: right;\n",
       "    }\n",
       "</style>\n",
       "<table border=\"1\" class=\"dataframe\">\n",
       "  <thead>\n",
       "    <tr style=\"text-align: right;\">\n",
       "      <th></th>\n",
       "      <th>Education</th>\n",
       "      <th>Data_Value</th>\n",
       "    </tr>\n",
       "  </thead>\n",
       "  <tbody>\n",
       "    <tr>\n",
       "      <th>0</th>\n",
       "      <td>High school graduate</td>\n",
       "      <td>38.0</td>\n",
       "    </tr>\n",
       "    <tr>\n",
       "      <th>3</th>\n",
       "      <td>Less than high school</td>\n",
       "      <td>39.1</td>\n",
       "    </tr>\n",
       "    <tr>\n",
       "      <th>8</th>\n",
       "      <td>College graduate</td>\n",
       "      <td>23.1</td>\n",
       "    </tr>\n",
       "    <tr>\n",
       "      <th>27</th>\n",
       "      <td>Some college or technical school</td>\n",
       "      <td>35.7</td>\n",
       "    </tr>\n",
       "  </tbody>\n",
       "</table>\n",
       "</div>"
      ],
      "text/plain": [
       "                           Education  Data_Value\n",
       "0               High school graduate        38.0\n",
       "3              Less than high school        39.1\n",
       "8                   College graduate        23.1\n",
       "27  Some college or technical school        35.7"
      ]
     },
     "execution_count": 36,
     "metadata": {},
     "output_type": "execute_result"
    }
   ],
   "source": [
    "df2_edu_anv = df2_edu_features[[\"Education\", \"Data_Value\"]].groupby([\"Education\"])\n",
    "df2_edu_anv.head(1)"
   ]
  },
  {
   "cell_type": "code",
   "execution_count": 37,
   "id": "0a499341",
   "metadata": {},
   "outputs": [
    {
     "data": {
      "text/plain": [
       "Education\n",
       "College graduate                                    [College graduate]\n",
       "High school graduate                            [High school graduate]\n",
       "Less than high school                          [Less than high school]\n",
       "Some college or technical school    [Some college or technical school]\n",
       "Name: Education, dtype: object"
      ]
     },
     "execution_count": 37,
     "metadata": {},
     "output_type": "execute_result"
    }
   ],
   "source": [
    "df2_edu_anv.Education.unique()"
   ]
  },
  {
   "cell_type": "code",
   "execution_count": 38,
   "id": "bbc59ac0",
   "metadata": {},
   "outputs": [
    {
     "name": "stdout",
     "output_type": "stream",
     "text": [
      "ANOVA results: F= 44.47486850590439 , P = 4.587966132576498e-22\n"
     ]
    }
   ],
   "source": [
    "f_val, p_val = stats.f_oneway(df2_edu_anv.get_group('College graduate')['Data_Value'],\n",
    "                              df2_edu_anv.get_group('High school graduate')['Data_Value'],\n",
    "                              df2_edu_anv.get_group('Less than high school')['Data_Value'],\n",
    "                              df2_edu_anv.get_group('Some college or technical school')['Data_Value'],\n",
    "                             )  \n",
    " \n",
    "print( \"ANOVA results: F=\", f_val, \", P =\", p_val)   "
   ]
  },
  {
   "cell_type": "markdown",
   "id": "2897b273",
   "metadata": {},
   "source": [
    "There was a statistically significant difference between education groups as determined by one-way ANOVA (F one-way = 44.47, p is close to zero)."
   ]
  },
  {
   "cell_type": "markdown",
   "id": "7e6557cf",
   "metadata": {},
   "source": [
    "<h2>Linear Regression: Effect of Income on Obesity</h2>"
   ]
  },
  {
   "cell_type": "code",
   "execution_count": 39,
   "id": "adb4f18e",
   "metadata": {},
   "outputs": [],
   "source": [
    "from sklearn.model_selection import train_test_split\n",
    "from sklearn.linear_model import LinearRegression\n",
    "from sklearn.metrics import r2_score, mean_squared_error\n",
    "from sklearn.model_selection import cross_val_score\n",
    "from scipy import stats"
   ]
  },
  {
   "cell_type": "code",
   "execution_count": 40,
   "id": "2d356f4b",
   "metadata": {},
   "outputs": [],
   "source": [
    "# Will use this later to evaluate the cross-validation\n",
    "def display_scores(scores):\n",
    "    print(\"Scores:\", scores)\n",
    "    print(\"Mean:\", scores.mean())\n",
    "    print(\"Standard deviation:\", scores.std())"
   ]
  },
  {
   "cell_type": "code",
   "execution_count": 41,
   "id": "01c5538b",
   "metadata": {},
   "outputs": [
    {
     "data": {
      "text/html": [
       "<div>\n",
       "<style scoped>\n",
       "    .dataframe tbody tr th:only-of-type {\n",
       "        vertical-align: middle;\n",
       "    }\n",
       "\n",
       "    .dataframe tbody tr th {\n",
       "        vertical-align: top;\n",
       "    }\n",
       "\n",
       "    .dataframe thead th {\n",
       "        text-align: right;\n",
       "    }\n",
       "</style>\n",
       "<table border=\"1\" class=\"dataframe\">\n",
       "  <thead>\n",
       "    <tr style=\"text-align: right;\">\n",
       "      <th></th>\n",
       "      <th>LocationDesc</th>\n",
       "      <th>Data_Value</th>\n",
       "      <th>Less than $15,000</th>\n",
       "      <th>$15,000 - $24,999</th>\n",
       "      <th>$25,000 - $34,999</th>\n",
       "      <th>$35,000 - $49,999</th>\n",
       "      <th>$50,000 - $74,999</th>\n",
       "      <th>$75,000 or greater</th>\n",
       "    </tr>\n",
       "  </thead>\n",
       "  <tbody>\n",
       "    <tr>\n",
       "      <th>0</th>\n",
       "      <td>Alabama</td>\n",
       "      <td>38.4</td>\n",
       "      <td>0</td>\n",
       "      <td>1</td>\n",
       "      <td>0</td>\n",
       "      <td>0</td>\n",
       "      <td>0</td>\n",
       "      <td>0</td>\n",
       "    </tr>\n",
       "    <tr>\n",
       "      <th>1</th>\n",
       "      <td>Alabama</td>\n",
       "      <td>35.1</td>\n",
       "      <td>0</td>\n",
       "      <td>0</td>\n",
       "      <td>1</td>\n",
       "      <td>0</td>\n",
       "      <td>0</td>\n",
       "      <td>0</td>\n",
       "    </tr>\n",
       "    <tr>\n",
       "      <th>2</th>\n",
       "      <td>Alabama</td>\n",
       "      <td>37.7</td>\n",
       "      <td>0</td>\n",
       "      <td>0</td>\n",
       "      <td>0</td>\n",
       "      <td>1</td>\n",
       "      <td>0</td>\n",
       "      <td>0</td>\n",
       "    </tr>\n",
       "    <tr>\n",
       "      <th>3</th>\n",
       "      <td>Alabama</td>\n",
       "      <td>38.6</td>\n",
       "      <td>0</td>\n",
       "      <td>0</td>\n",
       "      <td>0</td>\n",
       "      <td>0</td>\n",
       "      <td>1</td>\n",
       "      <td>0</td>\n",
       "    </tr>\n",
       "    <tr>\n",
       "      <th>4</th>\n",
       "      <td>Alabama</td>\n",
       "      <td>32.1</td>\n",
       "      <td>0</td>\n",
       "      <td>0</td>\n",
       "      <td>0</td>\n",
       "      <td>0</td>\n",
       "      <td>0</td>\n",
       "      <td>1</td>\n",
       "    </tr>\n",
       "  </tbody>\n",
       "</table>\n",
       "</div>"
      ],
      "text/plain": [
       "  LocationDesc  Data_Value  Less than $15,000  $15,000 - $24,999  \\\n",
       "0      Alabama        38.4                  0                  1   \n",
       "1      Alabama        35.1                  0                  0   \n",
       "2      Alabama        37.7                  0                  0   \n",
       "3      Alabama        38.6                  0                  0   \n",
       "4      Alabama        32.1                  0                  0   \n",
       "\n",
       "   $25,000 - $34,999  $35,000 - $49,999  $50,000 - $74,999  $75,000 or greater  \n",
       "0                  0                  0                  0                   0  \n",
       "1                  1                  0                  0                   0  \n",
       "2                  0                  1                  0                   0  \n",
       "3                  0                  0                  1                   0  \n",
       "4                  0                  0                  0                   1  "
      ]
     },
     "execution_count": 41,
     "metadata": {},
     "output_type": "execute_result"
    }
   ],
   "source": [
    "# Create dummy variables from df2_inc_new\n",
    "\n",
    "dummy_inc = pd.get_dummies(df2_inc_new[\"Income\"])\n",
    "\n",
    "# Create a copy of df called df_inc_LR, then concatenate the above dummy variables into df_inc_LR.\n",
    "\n",
    "df_inc_LR = df2_inc_new.copy()\n",
    "df_inc_LR = pd.concat([df_inc_LR, dummy_inc], axis=1)\n",
    "df_inc_LR.drop([\"Income\", \"Data not reported\"], axis = 1, inplace=True)\n",
    "\n",
    "df_inc_LR= df_inc_LR[['LocationDesc', 'Data_Value', 'Less than $15,000','$15,000 - $24,999', '$25,000 - $34,999',\n",
    "       '$35,000 - $49,999', '$50,000 - $74,999', '$75,000 or greater']]\n",
    "\n",
    "df_inc_LR.head()"
   ]
  },
  {
   "cell_type": "code",
   "execution_count": 42,
   "id": "1feded2c",
   "metadata": {},
   "outputs": [
    {
     "name": "stdout",
     "output_type": "stream",
     "text": [
      "(357, 6)\n"
     ]
    },
    {
     "data": {
      "text/plain": [
       "array([[0, 1, 0, 0, 0, 0],\n",
       "       [0, 0, 1, 0, 0, 0],\n",
       "       [0, 0, 0, 1, 0, 0],\n",
       "       [0, 0, 0, 0, 1, 0],\n",
       "       [0, 0, 0, 0, 0, 1]], dtype=uint8)"
      ]
     },
     "execution_count": 42,
     "metadata": {},
     "output_type": "execute_result"
    }
   ],
   "source": [
    "# Define feature matrix x1\n",
    "\n",
    "x1 = df_inc_LR.iloc[:, 2:8].values\n",
    "print(x1.shape)\n",
    "x1[0:5]"
   ]
  },
  {
   "cell_type": "code",
   "execution_count": 43,
   "id": "75da6873",
   "metadata": {},
   "outputs": [
    {
     "data": {
      "text/plain": [
       "0    38.4\n",
       "1    35.1\n",
       "2    37.7\n",
       "3    38.6\n",
       "4    32.1\n",
       "Name: Data_Value, dtype: float64"
      ]
     },
     "execution_count": 43,
     "metadata": {},
     "output_type": "execute_result"
    }
   ],
   "source": [
    "# Define target vector y1\n",
    "\n",
    "y1 = df_inc_LR[\"Data_Value\"]\n",
    "y1[0:5]"
   ]
  },
  {
   "cell_type": "code",
   "execution_count": 44,
   "id": "09ebb3c5",
   "metadata": {},
   "outputs": [
    {
     "name": "stdout",
     "output_type": "stream",
     "text": [
      "Train set: (285, 6) (285,)\n",
      "Test set: (72, 6) (72,)\n"
     ]
    }
   ],
   "source": [
    "# Split x1 and y1 into train set and test set\n",
    "\n",
    "x1_train, x1_test, y1_train, y1_test = train_test_split( x1, y1, test_size=0.2, random_state=0)\n",
    "print ('Train set:', x1_train.shape,  y1_train.shape)\n",
    "print ('Test set:', x1_test.shape,  y1_test.shape)"
   ]
  },
  {
   "cell_type": "code",
   "execution_count": 45,
   "id": "535800e8",
   "metadata": {},
   "outputs": [
    {
     "name": "stdout",
     "output_type": "stream",
     "text": [
      "Coefficients:  [9.27241015 8.84915433 6.50174825 6.37583732 6.57320574 2.19386364]\n",
      "Intercept:  26.71363636363637\n"
     ]
    }
   ],
   "source": [
    "# Create a linear Regression object and fit the model\n",
    "\n",
    "lr1=LinearRegression()\n",
    "lr1.fit(x1_train, y1_train)\n",
    "print ('Coefficients: ', lr1.coef_)\n",
    "print ('Intercept: ',lr1.intercept_)"
   ]
  },
  {
   "cell_type": "code",
   "execution_count": 46,
   "id": "a9eeed24",
   "metadata": {},
   "outputs": [
    {
     "name": "stdout",
     "output_type": "stream",
     "text": [
      "Scores: [ 0.13622527  0.38366573  0.4151932   0.33602674  0.46514592  0.14994767\n",
      "  0.19203184  0.47111662 -0.11703956  0.29433611]\n",
      "Mean: 0.27266495340427693\n",
      "Standard deviation: 0.17481374175000736\n"
     ]
    }
   ],
   "source": [
    "# Use cross-validation to get an estimate of a model’s generalization\n",
    "\n",
    "r2scores_inc = cross_val_score(lr1, x1_train, y1_train, cv=10)\n",
    "display_scores(r2scores_inc)"
   ]
  },
  {
   "cell_type": "markdown",
   "id": "2291172b",
   "metadata": {},
   "source": [
    "The mean of $R^2$ score is 0.27, which is very low. This shows the model doesn't generalize well."
   ]
  },
  {
   "cell_type": "code",
   "execution_count": 47,
   "id": "b9732324",
   "metadata": {},
   "outputs": [
    {
     "data": {
      "image/png": "[encoded data removed]",
      "text/plain": [
       "<Figure size 432x288 with 1 Axes>"
      ]
     },
     "metadata": {
      "needs_background": "light"
     },
     "output_type": "display_data"
    }
   ],
   "source": [
    "# Visualize the regression coefficient\n",
    "\n",
    "plt.barh([0,1,2,3,4,5],lr1.coef_)\n",
    "plt.yticks(range(6),df_inc_LR.columns[2:8], fontsize = 14)\n",
    "plt.title('Regression Coefficients')\n",
    "\n",
    "plt.show()"
   ]
  },
  {
   "cell_type": "markdown",
   "id": "bb87e372",
   "metadata": {},
   "source": [
    "We can see the proportions of the regression coefficients is similar to the propotion of the Mean Obesity by Income from the previous figure (with the exception of income 35,000 - 49,999 and 50,000 - 74,999 which proportions are very closed to each other). This makes sense. "
   ]
  },
  {
   "cell_type": "code",
   "execution_count": 48,
   "id": "e338cff2",
   "metadata": {},
   "outputs": [
    {
     "name": "stdout",
     "output_type": "stream",
     "text": [
      "Root Mean Square Error (RMSE): 4.10\n",
      "R2-score of test set: 0.31\n",
      "R2-score of train set: 0.35\n"
     ]
    }
   ],
   "source": [
    "y_hat_inc= lr1.predict(x1_test)\n",
    "print(\"Root Mean Square Error (RMSE): %.2f\" % np.sqrt(np.mean((y_hat_inc - y1_test) ** 2)))\n",
    "print(\"R2-score of test set: %.2f\" % r2_score(y1_test, y_hat_inc) )\n",
    "print(\"R2-score of train set: %.2f\" % r2_score(y1_train, lr1.predict(x1_train)) )"
   ]
  },
  {
   "cell_type": "markdown",
   "id": "8dfa413c",
   "metadata": {},
   "source": [
    "The $R^2$ of the test set and train set is very low, which means our data is not close to the fitted regression line. This show that there is low correlation between income levels and obesity. This is not surprising since humans are simply harder to predict."
   ]
  },
  {
   "cell_type": "markdown",
   "id": "4211f30c",
   "metadata": {},
   "source": [
    "<h2>Linear Regression: Effect of Education on Obesity</h2>"
   ]
  },
  {
   "cell_type": "code",
   "execution_count": 49,
   "id": "a1bbf90c",
   "metadata": {},
   "outputs": [
    {
     "data": {
      "text/html": [
       "<div>\n",
       "<style scoped>\n",
       "    .dataframe tbody tr th:only-of-type {\n",
       "        vertical-align: middle;\n",
       "    }\n",
       "\n",
       "    .dataframe tbody tr th {\n",
       "        vertical-align: top;\n",
       "    }\n",
       "\n",
       "    .dataframe thead th {\n",
       "        text-align: right;\n",
       "    }\n",
       "</style>\n",
       "<table border=\"1\" class=\"dataframe\">\n",
       "  <thead>\n",
       "    <tr style=\"text-align: right;\">\n",
       "      <th></th>\n",
       "      <th>LocationDesc</th>\n",
       "      <th>Data_Value</th>\n",
       "      <th>College graduate</th>\n",
       "      <th>High school graduate</th>\n",
       "      <th>Less than high school</th>\n",
       "      <th>Some college or technical school</th>\n",
       "    </tr>\n",
       "  </thead>\n",
       "  <tbody>\n",
       "    <tr>\n",
       "      <th>0</th>\n",
       "      <td>Alabama</td>\n",
       "      <td>29.4</td>\n",
       "      <td>1</td>\n",
       "      <td>0</td>\n",
       "      <td>0</td>\n",
       "      <td>0</td>\n",
       "    </tr>\n",
       "    <tr>\n",
       "      <th>1</th>\n",
       "      <td>Alabama</td>\n",
       "      <td>36.6</td>\n",
       "      <td>0</td>\n",
       "      <td>1</td>\n",
       "      <td>0</td>\n",
       "      <td>0</td>\n",
       "    </tr>\n",
       "    <tr>\n",
       "      <th>2</th>\n",
       "      <td>Alabama</td>\n",
       "      <td>39.2</td>\n",
       "      <td>0</td>\n",
       "      <td>0</td>\n",
       "      <td>1</td>\n",
       "      <td>0</td>\n",
       "    </tr>\n",
       "    <tr>\n",
       "      <th>3</th>\n",
       "      <td>Alabama</td>\n",
       "      <td>39.2</td>\n",
       "      <td>0</td>\n",
       "      <td>0</td>\n",
       "      <td>0</td>\n",
       "      <td>1</td>\n",
       "    </tr>\n",
       "    <tr>\n",
       "      <th>4</th>\n",
       "      <td>Alaska</td>\n",
       "      <td>24.0</td>\n",
       "      <td>1</td>\n",
       "      <td>0</td>\n",
       "      <td>0</td>\n",
       "      <td>0</td>\n",
       "    </tr>\n",
       "  </tbody>\n",
       "</table>\n",
       "</div>"
      ],
      "text/plain": [
       "  LocationDesc  Data_Value  College graduate  High school graduate  \\\n",
       "0      Alabama        29.4                 1                     0   \n",
       "1      Alabama        36.6                 0                     1   \n",
       "2      Alabama        39.2                 0                     0   \n",
       "3      Alabama        39.2                 0                     0   \n",
       "4       Alaska        24.0                 1                     0   \n",
       "\n",
       "   Less than high school  Some college or technical school  \n",
       "0                      0                                 0  \n",
       "1                      0                                 0  \n",
       "2                      1                                 0  \n",
       "3                      0                                 1  \n",
       "4                      0                                 0  "
      ]
     },
     "execution_count": 49,
     "metadata": {},
     "output_type": "execute_result"
    }
   ],
   "source": [
    "# Create dummy variables from df2_edu_new\n",
    "\n",
    "dummy_edu = pd.get_dummies(df2_edu_new[\"Education\"])\n",
    "\n",
    "# Create a copy of df called df_edu_LR, then concatenate the above dummy variables into df_edu_LR.\n",
    "\n",
    "df_edu_LR = df2_edu_new.copy()\n",
    "df_edu_LR = pd.concat([df_edu_LR, dummy_edu], axis=1)\n",
    "df_edu_LR.drop([\"Education\"], axis = 1, inplace=True)\n",
    "df_edu_LR.head()"
   ]
  },
  {
   "cell_type": "code",
   "execution_count": 50,
   "id": "a36a7ae6",
   "metadata": {},
   "outputs": [
    {
     "name": "stdout",
     "output_type": "stream",
     "text": [
      "(204, 4)\n"
     ]
    },
    {
     "data": {
      "text/plain": [
       "array([[1, 0, 0, 0],\n",
       "       [0, 1, 0, 0],\n",
       "       [0, 0, 1, 0],\n",
       "       [0, 0, 0, 1],\n",
       "       [1, 0, 0, 0]], dtype=uint8)"
      ]
     },
     "execution_count": 50,
     "metadata": {},
     "output_type": "execute_result"
    }
   ],
   "source": [
    "# Define feature matrix x\n",
    "\n",
    "x = df_edu_LR.iloc[:, 2:6].values\n",
    "print(x.shape)\n",
    "x[0:5]"
   ]
  },
  {
   "cell_type": "code",
   "execution_count": 51,
   "id": "024186ac",
   "metadata": {},
   "outputs": [
    {
     "data": {
      "text/plain": [
       "0    29.4\n",
       "1    36.6\n",
       "2    39.2\n",
       "3    39.2\n",
       "4    24.0\n",
       "Name: Data_Value, dtype: float64"
      ]
     },
     "execution_count": 51,
     "metadata": {},
     "output_type": "execute_result"
    }
   ],
   "source": [
    "# Define target vector y\n",
    "\n",
    "y = df_edu_LR[\"Data_Value\"]\n",
    "y[0:5]"
   ]
  },
  {
   "cell_type": "code",
   "execution_count": 52,
   "id": "57f2dc0f",
   "metadata": {},
   "outputs": [
    {
     "name": "stdout",
     "output_type": "stream",
     "text": [
      "Train set: (163, 4) (163,)\n",
      "Test set: (41, 4) (41,)\n"
     ]
    }
   ],
   "source": [
    "# Split the x and y into train set and test set\n",
    "\n",
    "x_train, x_test, y_train, y_test = train_test_split( x, y, test_size=0.2, random_state=0)\n",
    "print ('Train set:', x_train.shape,  y_train.shape)\n",
    "print ('Test set:', x_test.shape,  y_test.shape)"
   ]
  },
  {
   "cell_type": "code",
   "execution_count": 53,
   "id": "eea8afd5",
   "metadata": {},
   "outputs": [
    {
     "name": "stdout",
     "output_type": "stream",
     "text": [
      "Coefficients:  [-5.73946998  1.18060507  3.18979831  1.3690666 ]\n",
      "Intercept:  31.680933395872422\n"
     ]
    }
   ],
   "source": [
    "# Create a linear Regression object and fit the model\n",
    "\n",
    "lr=LinearRegression()\n",
    "lr.fit(x_train, y_train)\n",
    "print ('Coefficients: ', lr.coef_)\n",
    "print ('Intercept: ',lr.intercept_)"
   ]
  },
  {
   "cell_type": "code",
   "execution_count": 54,
   "id": "e53fbec2",
   "metadata": {},
   "outputs": [
    {
     "name": "stdout",
     "output_type": "stream",
     "text": [
      "Scores: [ 0.54356499  0.19022523 -0.08654047  0.22557506  0.34287539  0.63783927\n",
      "  0.46868827  0.0341027 ]\n",
      "Mean: 0.2945413035932526\n",
      "Standard deviation: 0.23484553762132512\n"
     ]
    }
   ],
   "source": [
    "# Use cross-validation to get an estimate of a model’s generalization\n",
    "\n",
    "r2scores = cross_val_score(lr, x_train, y_train, cv=8)\n",
    "display_scores(r2scores)"
   ]
  },
  {
   "cell_type": "markdown",
   "id": "f876a427",
   "metadata": {},
   "source": [
    "The mean of $R^2$ score is 0.29, which is very low. This shows the model doesn't generalize well."
   ]
  },
  {
   "cell_type": "code",
   "execution_count": 55,
   "id": "b18a83e2",
   "metadata": {},
   "outputs": [
    {
     "data": {
      "text/plain": [
       "array([-5.73946998,  1.18060507,  1.3690666 ,  3.18979831])"
      ]
     },
     "execution_count": 55,
     "metadata": {},
     "output_type": "execute_result"
    }
   ],
   "source": [
    "# We want to sort the lr.coef_ so it easier to visualize\n",
    "lr.coef_new = np.sort(lr.coef_)\n",
    "lr.coef_new"
   ]
  },
  {
   "cell_type": "code",
   "execution_count": 56,
   "id": "cbf0df81",
   "metadata": {},
   "outputs": [
    {
     "data": {
      "text/plain": [
       "array([0, 1, 3, 2], dtype=int64)"
      ]
     },
     "execution_count": 56,
     "metadata": {},
     "output_type": "execute_result"
    }
   ],
   "source": [
    "# We want to get the original index of lr.coef_ after sorting so we can use in the visualization\n",
    "import numpy\n",
    "numpy.argsort(lr.coef_)"
   ]
  },
  {
   "cell_type": "code",
   "execution_count": 57,
   "id": "8966cb14",
   "metadata": {},
   "outputs": [
    {
     "data": {
      "image/png": "[encoded data removed]",
      "text/plain": [
       "<Figure size 432x288 with 1 Axes>"
      ]
     },
     "metadata": {
      "needs_background": "light"
     },
     "output_type": "display_data"
    }
   ],
   "source": [
    "# Visualize the regression coefficient\n",
    "\n",
    "plt.barh([0,1,2,3],lr.coef_new)\n",
    "\n",
    "# We need to add 2 since the columns of df_edu_LR starts with LocationDesc (col 0) and Data_Value (col 1)\n",
    "plt.yticks(range(4),df_edu_LR.columns[numpy.argsort(lr.coef_ )+2], fontsize = 14)\n",
    "plt.title('Regression Coefficients')\n",
    "\n",
    "plt.show()"
   ]
  },
  {
   "cell_type": "markdown",
   "id": "a6c3bdb5",
   "metadata": {},
   "source": [
    "The proportions of the regression coefficients almost similar to the propotion of the Mean Obesity by Education from the previous figure. This is expected. "
   ]
  },
  {
   "cell_type": "code",
   "execution_count": 58,
   "id": "fbfc235c",
   "metadata": {},
   "outputs": [
    {
     "name": "stdout",
     "output_type": "stream",
     "text": [
      "Root Mean Square Error (RMSE): 4.10\n",
      "R2-score of test set: 0.36\n",
      "R2-score of train set: 0.40\n"
     ]
    }
   ],
   "source": [
    "y_hat= lr.predict(x_test)\n",
    "print(\"Root Mean Square Error (RMSE): %.2f\" % np.sqrt(np.mean((y_hat - y_test) ** 2)))\n",
    "print(\"R2-score of test set: %.2f\" % r2_score(y_test, y_hat) )\n",
    "print(\"R2-score of train set: %.2f\" % r2_score(y_train, lr.predict(x_train)) )"
   ]
  },
  {
   "cell_type": "markdown",
   "id": "c097d87e",
   "metadata": {},
   "source": [
    "The $R^2$ of the test set and train set is also very low, which means our data is not close to the fitted regression line. This show that there is low correlation between education levels and obesity"
   ]
  }
 ],
 "metadata": {
  "kernelspec": {
   "display_name": "Python 3 (ipykernel)",
   "language": "python",
   "name": "python3"
  },
  "language_info": {
   "codemirror_mode": {
    "name": "ipython",
    "version": 3
   },
   "file_extension": ".py",
   "mimetype": "text/x-python",
   "name": "python",
   "nbconvert_exporter": "python",
   "pygments_lexer": "ipython3",
   "version": "3.8.12"
  }
 },
 "nbformat": 4,
 "nbformat_minor": 5
}
